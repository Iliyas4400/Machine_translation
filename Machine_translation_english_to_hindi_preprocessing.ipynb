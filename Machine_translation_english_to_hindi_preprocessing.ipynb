{
 "cells": [
  {
   "cell_type": "code",
   "execution_count": 1,
   "metadata": {
    "id": "-ZV-AnOEa9KE"
   },
   "outputs": [],
   "source": [
    "import pandas as pd\n",
    "import re\n",
    "import numpy as np\n",
    "import pickle\n",
    "import matplotlib.pyplot as plt\n",
    "import seaborn as sns"
   ]
  },
  {
   "cell_type": "code",
   "execution_count": 2,
   "metadata": {
    "id": "J8o87Nd_JWk_"
   },
   "outputs": [],
   "source": [
    "from sklearn.model_selection import train_test_split\n",
    "from tqdm import tqdm\n",
    "from sklearn.metrics import accuracy_score"
   ]
  },
  {
   "cell_type": "markdown",
   "metadata": {},
   "source": [
    "Data set is taken from kaggle(https://www.kaggle.com/aiswaryaramachandran/english-to-hindi-neural-machine-translation?select=Hindi_English_Truncated_Corpus.csv) and is preprocessed to train the Encoder Decoder model. "
   ]
  },
  {
   "cell_type": "code",
   "execution_count": 3,
   "metadata": {},
   "outputs": [
    {
     "name": "stdout",
     "output_type": "stream",
     "text": [
      "(127607, 3)\n"
     ]
    },
    {
     "data": {
      "text/html": [
       "<div>\n",
       "<style scoped>\n",
       "    .dataframe tbody tr th:only-of-type {\n",
       "        vertical-align: middle;\n",
       "    }\n",
       "\n",
       "    .dataframe tbody tr th {\n",
       "        vertical-align: top;\n",
       "    }\n",
       "\n",
       "    .dataframe thead th {\n",
       "        text-align: right;\n",
       "    }\n",
       "</style>\n",
       "<table border=\"1\" class=\"dataframe\">\n",
       "  <thead>\n",
       "    <tr style=\"text-align: right;\">\n",
       "      <th></th>\n",
       "      <th>source</th>\n",
       "      <th>english_sentence</th>\n",
       "      <th>hindi_sentence</th>\n",
       "    </tr>\n",
       "  </thead>\n",
       "  <tbody>\n",
       "    <tr>\n",
       "      <th>0</th>\n",
       "      <td>ted</td>\n",
       "      <td>politicians do not have permission to do what ...</td>\n",
       "      <td>राजनीतिज्ञों के पास जो कार्य करना चाहिए, वह कर...</td>\n",
       "    </tr>\n",
       "    <tr>\n",
       "      <th>1</th>\n",
       "      <td>ted</td>\n",
       "      <td>I'd like to tell you about one such child,</td>\n",
       "      <td>मई आपको ऐसे ही एक बच्चे के बारे में बताना चाहू...</td>\n",
       "    </tr>\n",
       "    <tr>\n",
       "      <th>2</th>\n",
       "      <td>indic2012</td>\n",
       "      <td>This percentage is even greater than the perce...</td>\n",
       "      <td>यह प्रतिशत भारत में हिन्दुओं प्रतिशत से अधिक है।</td>\n",
       "    </tr>\n",
       "    <tr>\n",
       "      <th>3</th>\n",
       "      <td>ted</td>\n",
       "      <td>what we really mean is that they're bad at not...</td>\n",
       "      <td>हम ये नहीं कहना चाहते कि वो ध्यान नहीं दे पाते</td>\n",
       "    </tr>\n",
       "    <tr>\n",
       "      <th>4</th>\n",
       "      <td>indic2012</td>\n",
       "      <td>.The ending portion of these Vedas is called U...</td>\n",
       "      <td>इन्हीं वेदों का अंतिम भाग उपनिषद कहलाता है।</td>\n",
       "    </tr>\n",
       "  </tbody>\n",
       "</table>\n",
       "</div>"
      ],
      "text/plain": [
       "      source                                   english_sentence  \\\n",
       "0        ted  politicians do not have permission to do what ...   \n",
       "1        ted         I'd like to tell you about one such child,   \n",
       "2  indic2012  This percentage is even greater than the perce...   \n",
       "3        ted  what we really mean is that they're bad at not...   \n",
       "4  indic2012  .The ending portion of these Vedas is called U...   \n",
       "\n",
       "                                      hindi_sentence  \n",
       "0  राजनीतिज्ञों के पास जो कार्य करना चाहिए, वह कर...  \n",
       "1  मई आपको ऐसे ही एक बच्चे के बारे में बताना चाहू...  \n",
       "2   यह प्रतिशत भारत में हिन्दुओं प्रतिशत से अधिक है।  \n",
       "3     हम ये नहीं कहना चाहते कि वो ध्यान नहीं दे पाते  \n",
       "4        इन्हीं वेदों का अंतिम भाग उपनिषद कहलाता है।  "
      ]
     },
     "execution_count": 3,
     "metadata": {},
     "output_type": "execute_result"
    }
   ],
   "source": [
    "train_df=pd.read_csv('Hindi_English_Truncated_Corpus.csv') \n",
    "print(train_df.shape)\n",
    "train_df.head()"
   ]
  },
  {
   "cell_type": "code",
   "execution_count": 4,
   "metadata": {},
   "outputs": [
    {
     "data": {
      "text/plain": [
       "tides        50000\n",
       "ted          39881\n",
       "indic2012    37726\n",
       "Name: source, dtype: int64"
      ]
     },
     "execution_count": 4,
     "metadata": {},
     "output_type": "execute_result"
    }
   ],
   "source": [
    "train_df['source'].value_counts()"
   ]
  },
  {
   "cell_type": "code",
   "execution_count": 5,
   "metadata": {},
   "outputs": [],
   "source": [
    "def decontractions(phrase):\n",
    "    # specific\n",
    "    phrase = re.sub(r\"won\\'t\", \"will not\", phrase)\n",
    "    phrase = re.sub(r\"can\\'t\", \"can not\", phrase)\n",
    "\n",
    "    # general\n",
    "    phrase = re.sub(r\"n\\'t\", \" not\", phrase)\n",
    "    phrase = re.sub(r\"\\'re\", \" are\", phrase)\n",
    "    phrase = re.sub(r\"\\'s\", \" is\", phrase)\n",
    "    phrase = re.sub(r\"\\'d\", \" would\", phrase)\n",
    "    phrase = re.sub(r\"\\'ll\", \" will\", phrase)\n",
    "    phrase = re.sub(r\"\\'t\", \" not\", phrase)\n",
    "    phrase = re.sub(r\"\\'ve\", \" have\", phrase)\n",
    "    phrase = re.sub(r\"\\'m\", \" am\", phrase)\n",
    "\n",
    "    return phrase"
   ]
  },
  {
   "cell_type": "code",
   "execution_count": 6,
   "metadata": {},
   "outputs": [],
   "source": [
    "def clean_text(phrase):\n",
    "    phrase = re.sub('[$)\\?\"’.°!;\\'€%:|,।(/”/“]*', '', phrase)\n",
    "    phrase = re.sub('[२३०८१५७९४६]*', '', phrase)\n",
    "    phrase = re.sub('[0-9]', '', phrase)\n",
    "    phrase = re.sub('[-]', ' ', phrase)\n",
    "    return phrase"
   ]
  },
  {
   "cell_type": "code",
   "execution_count": 7,
   "metadata": {},
   "outputs": [],
   "source": [
    "def preprocess_text_hindi(text_data):\n",
    "    preprocessed_text = []\n",
    "    for sentance in tqdm(text_data):\n",
    "        sent = clean_text(sentance)\n",
    "        preprocessed_text.append(sent.strip())\n",
    "    return preprocessed_text"
   ]
  },
  {
   "cell_type": "code",
   "execution_count": 8,
   "metadata": {},
   "outputs": [
    {
     "name": "stderr",
     "output_type": "stream",
     "text": [
      "100%|██████████| 127607/127607 [00:08<00:00, 14366.11it/s]\n"
     ]
    }
   ],
   "source": [
    "hindi_p=preprocess_text_hindi(train_df['hindi_sentence'])"
   ]
  },
  {
   "cell_type": "code",
   "execution_count": 9,
   "metadata": {},
   "outputs": [],
   "source": [
    "def preprocess_text_english(text_data):\n",
    "    preprocessed_text = []\n",
    "    for sentance in tqdm(text_data):\n",
    "        sent = decontractions(str(sentance))\n",
    "        sent = clean_text(sent)\n",
    "        sent = ' '.join(e.lower() for e in sent.split())\n",
    "        preprocessed_text.append(sent.strip())\n",
    "    return preprocessed_text"
   ]
  },
  {
   "cell_type": "code",
   "execution_count": 10,
   "metadata": {},
   "outputs": [
    {
     "name": "stderr",
     "output_type": "stream",
     "text": [
      "100%|██████████| 127607/127607 [00:10<00:00, 12113.68it/s]\n"
     ]
    }
   ],
   "source": [
    "english_p=preprocess_text_english(train_df['english_sentence'])"
   ]
  },
  {
   "cell_type": "code",
   "execution_count": 11,
   "metadata": {},
   "outputs": [],
   "source": [
    "train_df['processed_hindi']=hindi_p\n",
    "train_df['processed_english']=english_p"
   ]
  },
  {
   "cell_type": "code",
   "execution_count": 12,
   "metadata": {
    "scrolled": true
   },
   "outputs": [
    {
     "data": {
      "text/html": [
       "<div>\n",
       "<style scoped>\n",
       "    .dataframe tbody tr th:only-of-type {\n",
       "        vertical-align: middle;\n",
       "    }\n",
       "\n",
       "    .dataframe tbody tr th {\n",
       "        vertical-align: top;\n",
       "    }\n",
       "\n",
       "    .dataframe thead th {\n",
       "        text-align: right;\n",
       "    }\n",
       "</style>\n",
       "<table border=\"1\" class=\"dataframe\">\n",
       "  <thead>\n",
       "    <tr style=\"text-align: right;\">\n",
       "      <th></th>\n",
       "      <th>source</th>\n",
       "      <th>english_sentence</th>\n",
       "      <th>hindi_sentence</th>\n",
       "      <th>processed_hindi</th>\n",
       "      <th>processed_english</th>\n",
       "    </tr>\n",
       "  </thead>\n",
       "  <tbody>\n",
       "    <tr>\n",
       "      <th>0</th>\n",
       "      <td>ted</td>\n",
       "      <td>politicians do not have permission to do what ...</td>\n",
       "      <td>राजनीतिज्ञों के पास जो कार्य करना चाहिए, वह कर...</td>\n",
       "      <td>राजनीतिज्ञों के पास जो कार्य करना चाहिए वह करन...</td>\n",
       "      <td>politicians do not have permission to do what ...</td>\n",
       "    </tr>\n",
       "    <tr>\n",
       "      <th>1</th>\n",
       "      <td>ted</td>\n",
       "      <td>I'd like to tell you about one such child,</td>\n",
       "      <td>मई आपको ऐसे ही एक बच्चे के बारे में बताना चाहू...</td>\n",
       "      <td>मई आपको ऐसे ही एक बच्चे के बारे में बताना चाहूंगी</td>\n",
       "      <td>i would like to tell you about one such child</td>\n",
       "    </tr>\n",
       "    <tr>\n",
       "      <th>2</th>\n",
       "      <td>indic2012</td>\n",
       "      <td>This percentage is even greater than the perce...</td>\n",
       "      <td>यह प्रतिशत भारत में हिन्दुओं प्रतिशत से अधिक है।</td>\n",
       "      <td>यह प्रतिशत भारत में हिन्दुओं प्रतिशत से अधिक है</td>\n",
       "      <td>this percentage is even greater than the perce...</td>\n",
       "    </tr>\n",
       "    <tr>\n",
       "      <th>3</th>\n",
       "      <td>ted</td>\n",
       "      <td>what we really mean is that they're bad at not...</td>\n",
       "      <td>हम ये नहीं कहना चाहते कि वो ध्यान नहीं दे पाते</td>\n",
       "      <td>हम ये नहीं कहना चाहते कि वो ध्यान नहीं दे पाते</td>\n",
       "      <td>what we really mean is that they are bad at no...</td>\n",
       "    </tr>\n",
       "    <tr>\n",
       "      <th>4</th>\n",
       "      <td>indic2012</td>\n",
       "      <td>.The ending portion of these Vedas is called U...</td>\n",
       "      <td>इन्हीं वेदों का अंतिम भाग उपनिषद कहलाता है।</td>\n",
       "      <td>इन्हीं वेदों का अंतिम भाग उपनिषद कहलाता है</td>\n",
       "      <td>the ending portion of these vedas is called up...</td>\n",
       "    </tr>\n",
       "    <tr>\n",
       "      <th>5</th>\n",
       "      <td>tides</td>\n",
       "      <td>The then Governor of Kashmir resisted transfer...</td>\n",
       "      <td>कश्मीर के तत्कालीन गवर्नर ने इस हस्तांतरण का व...</td>\n",
       "      <td>कश्मीर के तत्कालीन गवर्नर ने इस हस्तांतरण का व...</td>\n",
       "      <td>the then governor of kashmir resisted transfer...</td>\n",
       "    </tr>\n",
       "    <tr>\n",
       "      <th>6</th>\n",
       "      <td>indic2012</td>\n",
       "      <td>In this lies the circumstances of people befor...</td>\n",
       "      <td>इसमें तुमसे पूर्व गुज़रे हुए लोगों के हालात हैं।</td>\n",
       "      <td>इसमें तुमसे पूर्व गुज़रे हुए लोगों के हालात हैं</td>\n",
       "      <td>in this lies the circumstances of people befor...</td>\n",
       "    </tr>\n",
       "    <tr>\n",
       "      <th>7</th>\n",
       "      <td>ted</td>\n",
       "      <td>And who are we to say, even, that they are wrong</td>\n",
       "      <td>और हम होते कौन हैं यह कहने भी वाले कि वे गलत हैं</td>\n",
       "      <td>और हम होते कौन हैं यह कहने भी वाले कि वे गलत हैं</td>\n",
       "      <td>and who are we to say even that they are wrong</td>\n",
       "    </tr>\n",
       "    <tr>\n",
       "      <th>8</th>\n",
       "      <td>indic2012</td>\n",
       "      <td>“”Global Warming“” refer to warming caused in ...</td>\n",
       "      <td>ग्लोबल वॉर्मिंग से आशय हाल ही के दशकों में हुई...</td>\n",
       "      <td>ग्लोबल वॉर्मिंग से आशय हाल ही के दशकों में हुई...</td>\n",
       "      <td>global warming refer to warming caused in rece...</td>\n",
       "    </tr>\n",
       "    <tr>\n",
       "      <th>9</th>\n",
       "      <td>tides</td>\n",
       "      <td>You may want your child to go to a school that...</td>\n",
       "      <td>हो सकता है कि आप चाहते हों कि आप का नऋर्नमेनटे...</td>\n",
       "      <td>हो सकता है कि आप चाहते हों कि आप का नऋर्नमेनटे...</td>\n",
       "      <td>you may want your child to go to a school that...</td>\n",
       "    </tr>\n",
       "    <tr>\n",
       "      <th>10</th>\n",
       "      <td>tides</td>\n",
       "      <td>Please ensure that you use the appropriate form .</td>\n",
       "      <td>कृपया यह सुनिश्चित कर लें कि आप सही फॉर्म का प...</td>\n",
       "      <td>कृपया यह सुनिश्चित कर लें कि आप सही फॉर्म का प...</td>\n",
       "      <td>please ensure that you use the appropriate form</td>\n",
       "    </tr>\n",
       "    <tr>\n",
       "      <th>11</th>\n",
       "      <td>indic2012</td>\n",
       "      <td>Category: Religious Text</td>\n",
       "      <td>श्रेणी:धर्मग्रन्थ</td>\n",
       "      <td>श्रेणीधर्मग्रन्थ</td>\n",
       "      <td>category religious text</td>\n",
       "    </tr>\n",
       "    <tr>\n",
       "      <th>12</th>\n",
       "      <td>indic2012</td>\n",
       "      <td>This period summarily is pepped up with devotion.</td>\n",
       "      <td>यह काल समग्रतः भक्ति भावना से ओतप्रोत काल है।</td>\n",
       "      <td>यह काल समग्रतः भक्ति भावना से ओतप्रोत काल है</td>\n",
       "      <td>this period summarily is pepped up with devotion</td>\n",
       "    </tr>\n",
       "    <tr>\n",
       "      <th>13</th>\n",
       "      <td>ted</td>\n",
       "      <td>So there is some sort of justice</td>\n",
       "      <td>तो वहाँ न्याय है</td>\n",
       "      <td>तो वहाँ न्याय है</td>\n",
       "      <td>so there is some sort of justice</td>\n",
       "    </tr>\n",
       "    <tr>\n",
       "      <th>14</th>\n",
       "      <td>tides</td>\n",
       "      <td>The first two were found unreliable and the pr...</td>\n",
       "      <td>पहले दो को अविश्वसनीय मानकर बाकी पांच मुखबिरों...</td>\n",
       "      <td>पहले दो को अविश्वसनीय मानकर बाकी पांच मुखबिरों...</td>\n",
       "      <td>the first two were found unreliable and the pr...</td>\n",
       "    </tr>\n",
       "    <tr>\n",
       "      <th>15</th>\n",
       "      <td>tides</td>\n",
       "      <td>They had justified their educational policy of...</td>\n",
       "      <td>कम संख़्या वाले उच्च एवं मध्यम श्रेणी के लोगों...</td>\n",
       "      <td>कम संख़्या वाले उच्च एवं मध्यम श्रेणी के लोगों...</td>\n",
       "      <td>they had justified their educational policy of...</td>\n",
       "    </tr>\n",
       "    <tr>\n",
       "      <th>16</th>\n",
       "      <td>indic2012</td>\n",
       "      <td>And now at present the naturecure, Ayurvedic a...</td>\n",
       "      <td>हाल में नेपाल के हस्पताल सामन्यतया आयुर्वेद, प...</td>\n",
       "      <td>हाल में नेपाल के हस्पताल सामन्यतया आयुर्वेद प्...</td>\n",
       "      <td>and now at present the naturecure ayurvedic an...</td>\n",
       "    </tr>\n",
       "    <tr>\n",
       "      <th>17</th>\n",
       "      <td>indic2012</td>\n",
       "      <td>Parliament time frame is 5 years and this will...</td>\n",
       "      <td>लोकसभा की कार्यावधि 5 वर्ष है पर्ंतु इसे समय स...</td>\n",
       "      <td>लोकसभा की कार्यावधि  वर्ष है पर्ंतु इसे समय से...</td>\n",
       "      <td>parliament time frame is years and this will b...</td>\n",
       "    </tr>\n",
       "    <tr>\n",
       "      <th>18</th>\n",
       "      <td>tides</td>\n",
       "      <td>ii Register Courts , empowered to try causes f...</td>\n",
       "      <td>रजिस्टर न्यायालय जिन्हें न्यायाधीश द्वारा प्रा...</td>\n",
       "      <td>रजिस्टर न्यायालय जिन्हें न्यायाधीश द्वारा प्रा...</td>\n",
       "      <td>ii register courts empowered to try causes for...</td>\n",
       "    </tr>\n",
       "    <tr>\n",
       "      <th>19</th>\n",
       "      <td>indic2012</td>\n",
       "      <td>Extreme weather due to increased mortality; di...</td>\n",
       "      <td>बढ़ती हुई मौतों displacements और आर्थिक नुकसान...</td>\n",
       "      <td>बढ़ती हुई मौतों displacements और आर्थिक नुकसान...</td>\n",
       "      <td>extreme weather due to increased mortality dis...</td>\n",
       "    </tr>\n",
       "  </tbody>\n",
       "</table>\n",
       "</div>"
      ],
      "text/plain": [
       "       source                                   english_sentence  \\\n",
       "0         ted  politicians do not have permission to do what ...   \n",
       "1         ted         I'd like to tell you about one such child,   \n",
       "2   indic2012  This percentage is even greater than the perce...   \n",
       "3         ted  what we really mean is that they're bad at not...   \n",
       "4   indic2012  .The ending portion of these Vedas is called U...   \n",
       "5       tides  The then Governor of Kashmir resisted transfer...   \n",
       "6   indic2012  In this lies the circumstances of people befor...   \n",
       "7         ted   And who are we to say, even, that they are wrong   \n",
       "8   indic2012  “”Global Warming“” refer to warming caused in ...   \n",
       "9       tides  You may want your child to go to a school that...   \n",
       "10      tides  Please ensure that you use the appropriate form .   \n",
       "11  indic2012                           Category: Religious Text   \n",
       "12  indic2012  This period summarily is pepped up with devotion.   \n",
       "13        ted                   So there is some sort of justice   \n",
       "14      tides  The first two were found unreliable and the pr...   \n",
       "15      tides  They had justified their educational policy of...   \n",
       "16  indic2012  And now at present the naturecure, Ayurvedic a...   \n",
       "17  indic2012  Parliament time frame is 5 years and this will...   \n",
       "18      tides  ii Register Courts , empowered to try causes f...   \n",
       "19  indic2012  Extreme weather due to increased mortality; di...   \n",
       "\n",
       "                                       hindi_sentence  \\\n",
       "0   राजनीतिज्ञों के पास जो कार्य करना चाहिए, वह कर...   \n",
       "1   मई आपको ऐसे ही एक बच्चे के बारे में बताना चाहू...   \n",
       "2    यह प्रतिशत भारत में हिन्दुओं प्रतिशत से अधिक है।   \n",
       "3      हम ये नहीं कहना चाहते कि वो ध्यान नहीं दे पाते   \n",
       "4         इन्हीं वेदों का अंतिम भाग उपनिषद कहलाता है।   \n",
       "5   कश्मीर के तत्कालीन गवर्नर ने इस हस्तांतरण का व...   \n",
       "6    इसमें तुमसे पूर्व गुज़रे हुए लोगों के हालात हैं।   \n",
       "7    और हम होते कौन हैं यह कहने भी वाले कि वे गलत हैं   \n",
       "8   ग्लोबल वॉर्मिंग से आशय हाल ही के दशकों में हुई...   \n",
       "9   हो सकता है कि आप चाहते हों कि आप का नऋर्नमेनटे...   \n",
       "10  कृपया यह सुनिश्चित कर लें कि आप सही फॉर्म का प...   \n",
       "11                                  श्रेणी:धर्मग्रन्थ   \n",
       "12      यह काल समग्रतः भक्ति भावना से ओतप्रोत काल है।   \n",
       "13                                   तो वहाँ न्याय है   \n",
       "14  पहले दो को अविश्वसनीय मानकर बाकी पांच मुखबिरों...   \n",
       "15  कम संख़्या वाले उच्च एवं मध्यम श्रेणी के लोगों...   \n",
       "16  हाल में नेपाल के हस्पताल सामन्यतया आयुर्वेद, प...   \n",
       "17  लोकसभा की कार्यावधि 5 वर्ष है पर्ंतु इसे समय स...   \n",
       "18  रजिस्टर न्यायालय जिन्हें न्यायाधीश द्वारा प्रा...   \n",
       "19  बढ़ती हुई मौतों displacements और आर्थिक नुकसान...   \n",
       "\n",
       "                                      processed_hindi  \\\n",
       "0   राजनीतिज्ञों के पास जो कार्य करना चाहिए वह करन...   \n",
       "1   मई आपको ऐसे ही एक बच्चे के बारे में बताना चाहूंगी   \n",
       "2     यह प्रतिशत भारत में हिन्दुओं प्रतिशत से अधिक है   \n",
       "3      हम ये नहीं कहना चाहते कि वो ध्यान नहीं दे पाते   \n",
       "4          इन्हीं वेदों का अंतिम भाग उपनिषद कहलाता है   \n",
       "5   कश्मीर के तत्कालीन गवर्नर ने इस हस्तांतरण का व...   \n",
       "6     इसमें तुमसे पूर्व गुज़रे हुए लोगों के हालात हैं   \n",
       "7    और हम होते कौन हैं यह कहने भी वाले कि वे गलत हैं   \n",
       "8   ग्लोबल वॉर्मिंग से आशय हाल ही के दशकों में हुई...   \n",
       "9   हो सकता है कि आप चाहते हों कि आप का नऋर्नमेनटे...   \n",
       "10  कृपया यह सुनिश्चित कर लें कि आप सही फॉर्म का प...   \n",
       "11                                   श्रेणीधर्मग्रन्थ   \n",
       "12       यह काल समग्रतः भक्ति भावना से ओतप्रोत काल है   \n",
       "13                                   तो वहाँ न्याय है   \n",
       "14  पहले दो को अविश्वसनीय मानकर बाकी पांच मुखबिरों...   \n",
       "15  कम संख़्या वाले उच्च एवं मध्यम श्रेणी के लोगों...   \n",
       "16  हाल में नेपाल के हस्पताल सामन्यतया आयुर्वेद प्...   \n",
       "17  लोकसभा की कार्यावधि  वर्ष है पर्ंतु इसे समय से...   \n",
       "18  रजिस्टर न्यायालय जिन्हें न्यायाधीश द्वारा प्रा...   \n",
       "19  बढ़ती हुई मौतों displacements और आर्थिक नुकसान...   \n",
       "\n",
       "                                    processed_english  \n",
       "0   politicians do not have permission to do what ...  \n",
       "1       i would like to tell you about one such child  \n",
       "2   this percentage is even greater than the perce...  \n",
       "3   what we really mean is that they are bad at no...  \n",
       "4   the ending portion of these vedas is called up...  \n",
       "5   the then governor of kashmir resisted transfer...  \n",
       "6   in this lies the circumstances of people befor...  \n",
       "7      and who are we to say even that they are wrong  \n",
       "8   global warming refer to warming caused in rece...  \n",
       "9   you may want your child to go to a school that...  \n",
       "10    please ensure that you use the appropriate form  \n",
       "11                            category religious text  \n",
       "12   this period summarily is pepped up with devotion  \n",
       "13                   so there is some sort of justice  \n",
       "14  the first two were found unreliable and the pr...  \n",
       "15  they had justified their educational policy of...  \n",
       "16  and now at present the naturecure ayurvedic an...  \n",
       "17  parliament time frame is years and this will b...  \n",
       "18  ii register courts empowered to try causes for...  \n",
       "19  extreme weather due to increased mortality dis...  "
      ]
     },
     "execution_count": 12,
     "metadata": {},
     "output_type": "execute_result"
    }
   ],
   "source": [
    "train_df.head(20)"
   ]
  },
  {
   "cell_type": "code",
   "execution_count": 13,
   "metadata": {},
   "outputs": [],
   "source": [
    "def find_length(sentence):\n",
    "    return len(sentence.split())\n",
    "\n",
    "train_df['len_processed_hindi'] = train_df['processed_hindi'].apply(find_length)\n",
    "train_df['len_processed_english'] = train_df['processed_english'].apply(find_length)"
   ]
  },
  {
   "cell_type": "code",
   "execution_count": 14,
   "metadata": {},
   "outputs": [
    {
     "data": {
      "text/plain": [
       "<AxesSubplot:xlabel='len_processed_english', ylabel='Count'>"
      ]
     },
     "execution_count": 14,
     "metadata": {},
     "output_type": "execute_result"
    },
    {
     "data": {
      "image/png": "[encoded data removed]",
      "text/plain": [
       "<Figure size 432x288 with 1 Axes>"
      ]
     },
     "metadata": {
      "needs_background": "light"
     },
     "output_type": "display_data"
    }
   ],
   "source": [
    "sns.histplot(train_df['len_processed_english'],bins=100)"
   ]
  },
  {
   "cell_type": "code",
   "execution_count": 15,
   "metadata": {},
   "outputs": [
    {
     "data": {
      "image/png": "[encoded data removed]",
      "text/plain": [
       "<Figure size 432x288 with 1 Axes>"
      ]
     },
     "metadata": {
      "needs_background": "light"
     },
     "output_type": "display_data"
    }
   ],
   "source": [
    "count, bins_count = np.histogram(train_df['len_processed_hindi'], bins=100)\n",
    "pdf = count / sum(count)\n",
    "cdf = np.cumsum(pdf)\n",
    "\n",
    "plt.title('PDF and CDF of length of hindi sentences')\n",
    "plt.plot(bins_count[1:], pdf, color=\"red\", label=\"PDF of length of hindi sentences\")\n",
    "plt.plot(bins_count[1:], cdf, label=\"CDF of length of hindi sentences\")\n",
    "plt.legend()\n",
    "plt.grid()"
   ]
  },
  {
   "cell_type": "code",
   "execution_count": 16,
   "metadata": {},
   "outputs": [
    {
     "data": {
      "image/png": "[encoded data removed]",
      "text/plain": [
       "<Figure size 432x288 with 1 Axes>"
      ]
     },
     "metadata": {
      "needs_background": "light"
     },
     "output_type": "display_data"
    }
   ],
   "source": [
    "count, bins_count = np.histogram(train_df['len_processed_english'], bins=100)\n",
    "pdf = count / sum(count)\n",
    "cdf = np.cumsum(pdf)\n",
    "\n",
    "plt.title('PDF and CDF of length of english sentences')\n",
    "plt.plot(bins_count[1:], pdf, color=\"red\", label=\"PDF of length of english sentences\")\n",
    "plt.plot(bins_count[1:], cdf, label=\"CDF of length of english sentences\")\n",
    "plt.legend()\n",
    "plt.grid()"
   ]
  },
  {
   "cell_type": "markdown",
   "metadata": {},
   "source": [
    "### Observation\n",
    "#### Mejority of the sentences are of length 10 to 15 in both english and hindi corpus."
   ]
  },
  {
   "cell_type": "code",
   "execution_count": 17,
   "metadata": {},
   "outputs": [],
   "source": [
    "train_df['encoder_input']='<start> '+train_df['processed_english']+' <end>'\n",
    "train_df['decoder_input']='<start> '+train_df['processed_hindi']+' <end>'\n",
    "train_df['decoder_output']= train_df['processed_hindi']+' <end>'+' <end>'"
   ]
  },
  {
   "cell_type": "code",
   "execution_count": 18,
   "metadata": {},
   "outputs": [
    {
     "data": {
      "text/html": [
       "<div>\n",
       "<style scoped>\n",
       "    .dataframe tbody tr th:only-of-type {\n",
       "        vertical-align: middle;\n",
       "    }\n",
       "\n",
       "    .dataframe tbody tr th {\n",
       "        vertical-align: top;\n",
       "    }\n",
       "\n",
       "    .dataframe thead th {\n",
       "        text-align: right;\n",
       "    }\n",
       "</style>\n",
       "<table border=\"1\" class=\"dataframe\">\n",
       "  <thead>\n",
       "    <tr style=\"text-align: right;\">\n",
       "      <th></th>\n",
       "      <th>source</th>\n",
       "      <th>english_sentence</th>\n",
       "      <th>hindi_sentence</th>\n",
       "      <th>processed_hindi</th>\n",
       "      <th>processed_english</th>\n",
       "      <th>len_processed_hindi</th>\n",
       "      <th>len_processed_english</th>\n",
       "      <th>encoder_input</th>\n",
       "      <th>decoder_input</th>\n",
       "      <th>decoder_output</th>\n",
       "    </tr>\n",
       "  </thead>\n",
       "  <tbody>\n",
       "    <tr>\n",
       "      <th>0</th>\n",
       "      <td>ted</td>\n",
       "      <td>politicians do not have permission to do what ...</td>\n",
       "      <td>राजनीतिज्ञों के पास जो कार्य करना चाहिए, वह कर...</td>\n",
       "      <td>राजनीतिज्ञों के पास जो कार्य करना चाहिए वह करन...</td>\n",
       "      <td>politicians do not have permission to do what ...</td>\n",
       "      <td>13</td>\n",
       "      <td>12</td>\n",
       "      <td>&lt;start&gt; politicians do not have permission to ...</td>\n",
       "      <td>&lt;start&gt; राजनीतिज्ञों के पास जो कार्य करना चाहि...</td>\n",
       "      <td>राजनीतिज्ञों के पास जो कार्य करना चाहिए वह करन...</td>\n",
       "    </tr>\n",
       "    <tr>\n",
       "      <th>1</th>\n",
       "      <td>ted</td>\n",
       "      <td>I'd like to tell you about one such child,</td>\n",
       "      <td>मई आपको ऐसे ही एक बच्चे के बारे में बताना चाहू...</td>\n",
       "      <td>मई आपको ऐसे ही एक बच्चे के बारे में बताना चाहूंगी</td>\n",
       "      <td>i would like to tell you about one such child</td>\n",
       "      <td>11</td>\n",
       "      <td>10</td>\n",
       "      <td>&lt;start&gt; i would like to tell you about one suc...</td>\n",
       "      <td>&lt;start&gt; मई आपको ऐसे ही एक बच्चे के बारे में बत...</td>\n",
       "      <td>मई आपको ऐसे ही एक बच्चे के बारे में बताना चाहू...</td>\n",
       "    </tr>\n",
       "    <tr>\n",
       "      <th>2</th>\n",
       "      <td>indic2012</td>\n",
       "      <td>This percentage is even greater than the perce...</td>\n",
       "      <td>यह प्रतिशत भारत में हिन्दुओं प्रतिशत से अधिक है।</td>\n",
       "      <td>यह प्रतिशत भारत में हिन्दुओं प्रतिशत से अधिक है</td>\n",
       "      <td>this percentage is even greater than the perce...</td>\n",
       "      <td>9</td>\n",
       "      <td>10</td>\n",
       "      <td>&lt;start&gt; this percentage is even greater than t...</td>\n",
       "      <td>&lt;start&gt; यह प्रतिशत भारत में हिन्दुओं प्रतिशत स...</td>\n",
       "      <td>यह प्रतिशत भारत में हिन्दुओं प्रतिशत से अधिक ह...</td>\n",
       "    </tr>\n",
       "    <tr>\n",
       "      <th>3</th>\n",
       "      <td>ted</td>\n",
       "      <td>what we really mean is that they're bad at not...</td>\n",
       "      <td>हम ये नहीं कहना चाहते कि वो ध्यान नहीं दे पाते</td>\n",
       "      <td>हम ये नहीं कहना चाहते कि वो ध्यान नहीं दे पाते</td>\n",
       "      <td>what we really mean is that they are bad at no...</td>\n",
       "      <td>11</td>\n",
       "      <td>13</td>\n",
       "      <td>&lt;start&gt; what we really mean is that they are b...</td>\n",
       "      <td>&lt;start&gt; हम ये नहीं कहना चाहते कि वो ध्यान नहीं...</td>\n",
       "      <td>हम ये नहीं कहना चाहते कि वो ध्यान नहीं दे पाते...</td>\n",
       "    </tr>\n",
       "    <tr>\n",
       "      <th>4</th>\n",
       "      <td>indic2012</td>\n",
       "      <td>.The ending portion of these Vedas is called U...</td>\n",
       "      <td>इन्हीं वेदों का अंतिम भाग उपनिषद कहलाता है।</td>\n",
       "      <td>इन्हीं वेदों का अंतिम भाग उपनिषद कहलाता है</td>\n",
       "      <td>the ending portion of these vedas is called up...</td>\n",
       "      <td>8</td>\n",
       "      <td>9</td>\n",
       "      <td>&lt;start&gt; the ending portion of these vedas is c...</td>\n",
       "      <td>&lt;start&gt; इन्हीं वेदों का अंतिम भाग उपनिषद कहलात...</td>\n",
       "      <td>इन्हीं वेदों का अंतिम भाग उपनिषद कहलाता है &lt;en...</td>\n",
       "    </tr>\n",
       "  </tbody>\n",
       "</table>\n",
       "</div>"
      ],
      "text/plain": [
       "      source                                   english_sentence  \\\n",
       "0        ted  politicians do not have permission to do what ...   \n",
       "1        ted         I'd like to tell you about one such child,   \n",
       "2  indic2012  This percentage is even greater than the perce...   \n",
       "3        ted  what we really mean is that they're bad at not...   \n",
       "4  indic2012  .The ending portion of these Vedas is called U...   \n",
       "\n",
       "                                      hindi_sentence  \\\n",
       "0  राजनीतिज्ञों के पास जो कार्य करना चाहिए, वह कर...   \n",
       "1  मई आपको ऐसे ही एक बच्चे के बारे में बताना चाहू...   \n",
       "2   यह प्रतिशत भारत में हिन्दुओं प्रतिशत से अधिक है।   \n",
       "3     हम ये नहीं कहना चाहते कि वो ध्यान नहीं दे पाते   \n",
       "4        इन्हीं वेदों का अंतिम भाग उपनिषद कहलाता है।   \n",
       "\n",
       "                                     processed_hindi  \\\n",
       "0  राजनीतिज्ञों के पास जो कार्य करना चाहिए वह करन...   \n",
       "1  मई आपको ऐसे ही एक बच्चे के बारे में बताना चाहूंगी   \n",
       "2    यह प्रतिशत भारत में हिन्दुओं प्रतिशत से अधिक है   \n",
       "3     हम ये नहीं कहना चाहते कि वो ध्यान नहीं दे पाते   \n",
       "4         इन्हीं वेदों का अंतिम भाग उपनिषद कहलाता है   \n",
       "\n",
       "                                   processed_english  len_processed_hindi  \\\n",
       "0  politicians do not have permission to do what ...                   13   \n",
       "1      i would like to tell you about one such child                   11   \n",
       "2  this percentage is even greater than the perce...                    9   \n",
       "3  what we really mean is that they are bad at no...                   11   \n",
       "4  the ending portion of these vedas is called up...                    8   \n",
       "\n",
       "   len_processed_english                                      encoder_input  \\\n",
       "0                     12  <start> politicians do not have permission to ...   \n",
       "1                     10  <start> i would like to tell you about one suc...   \n",
       "2                     10  <start> this percentage is even greater than t...   \n",
       "3                     13  <start> what we really mean is that they are b...   \n",
       "4                      9  <start> the ending portion of these vedas is c...   \n",
       "\n",
       "                                       decoder_input  \\\n",
       "0  <start> राजनीतिज्ञों के पास जो कार्य करना चाहि...   \n",
       "1  <start> मई आपको ऐसे ही एक बच्चे के बारे में बत...   \n",
       "2  <start> यह प्रतिशत भारत में हिन्दुओं प्रतिशत स...   \n",
       "3  <start> हम ये नहीं कहना चाहते कि वो ध्यान नहीं...   \n",
       "4  <start> इन्हीं वेदों का अंतिम भाग उपनिषद कहलात...   \n",
       "\n",
       "                                      decoder_output  \n",
       "0  राजनीतिज्ञों के पास जो कार्य करना चाहिए वह करन...  \n",
       "1  मई आपको ऐसे ही एक बच्चे के बारे में बताना चाहू...  \n",
       "2  यह प्रतिशत भारत में हिन्दुओं प्रतिशत से अधिक ह...  \n",
       "3  हम ये नहीं कहना चाहते कि वो ध्यान नहीं दे पाते...  \n",
       "4  इन्हीं वेदों का अंतिम भाग उपनिषद कहलाता है <en...  "
      ]
     },
     "execution_count": 18,
     "metadata": {},
     "output_type": "execute_result"
    }
   ],
   "source": [
    "train_df.head()"
   ]
  },
  {
   "cell_type": "code",
   "execution_count": 19,
   "metadata": {},
   "outputs": [
    {
     "data": {
      "text/html": [
       "<div>\n",
       "<style scoped>\n",
       "    .dataframe tbody tr th:only-of-type {\n",
       "        vertical-align: middle;\n",
       "    }\n",
       "\n",
       "    .dataframe tbody tr th {\n",
       "        vertical-align: top;\n",
       "    }\n",
       "\n",
       "    .dataframe thead th {\n",
       "        text-align: right;\n",
       "    }\n",
       "</style>\n",
       "<table border=\"1\" class=\"dataframe\">\n",
       "  <thead>\n",
       "    <tr style=\"text-align: right;\">\n",
       "      <th></th>\n",
       "      <th>source</th>\n",
       "      <th>encoder_input</th>\n",
       "      <th>decoder_input</th>\n",
       "      <th>decoder_output</th>\n",
       "    </tr>\n",
       "  </thead>\n",
       "  <tbody>\n",
       "    <tr>\n",
       "      <th>0</th>\n",
       "      <td>ted</td>\n",
       "      <td>&lt;start&gt; politicians do not have permission to ...</td>\n",
       "      <td>&lt;start&gt; राजनीतिज्ञों के पास जो कार्य करना चाहि...</td>\n",
       "      <td>राजनीतिज्ञों के पास जो कार्य करना चाहिए वह करन...</td>\n",
       "    </tr>\n",
       "    <tr>\n",
       "      <th>1</th>\n",
       "      <td>ted</td>\n",
       "      <td>&lt;start&gt; i would like to tell you about one suc...</td>\n",
       "      <td>&lt;start&gt; मई आपको ऐसे ही एक बच्चे के बारे में बत...</td>\n",
       "      <td>मई आपको ऐसे ही एक बच्चे के बारे में बताना चाहू...</td>\n",
       "    </tr>\n",
       "    <tr>\n",
       "      <th>2</th>\n",
       "      <td>indic2012</td>\n",
       "      <td>&lt;start&gt; this percentage is even greater than t...</td>\n",
       "      <td>&lt;start&gt; यह प्रतिशत भारत में हिन्दुओं प्रतिशत स...</td>\n",
       "      <td>यह प्रतिशत भारत में हिन्दुओं प्रतिशत से अधिक ह...</td>\n",
       "    </tr>\n",
       "    <tr>\n",
       "      <th>3</th>\n",
       "      <td>ted</td>\n",
       "      <td>&lt;start&gt; what we really mean is that they are b...</td>\n",
       "      <td>&lt;start&gt; हम ये नहीं कहना चाहते कि वो ध्यान नहीं...</td>\n",
       "      <td>हम ये नहीं कहना चाहते कि वो ध्यान नहीं दे पाते...</td>\n",
       "    </tr>\n",
       "    <tr>\n",
       "      <th>4</th>\n",
       "      <td>indic2012</td>\n",
       "      <td>&lt;start&gt; the ending portion of these vedas is c...</td>\n",
       "      <td>&lt;start&gt; इन्हीं वेदों का अंतिम भाग उपनिषद कहलात...</td>\n",
       "      <td>इन्हीं वेदों का अंतिम भाग उपनिषद कहलाता है &lt;en...</td>\n",
       "    </tr>\n",
       "  </tbody>\n",
       "</table>\n",
       "</div>"
      ],
      "text/plain": [
       "      source                                      encoder_input  \\\n",
       "0        ted  <start> politicians do not have permission to ...   \n",
       "1        ted  <start> i would like to tell you about one suc...   \n",
       "2  indic2012  <start> this percentage is even greater than t...   \n",
       "3        ted  <start> what we really mean is that they are b...   \n",
       "4  indic2012  <start> the ending portion of these vedas is c...   \n",
       "\n",
       "                                       decoder_input  \\\n",
       "0  <start> राजनीतिज्ञों के पास जो कार्य करना चाहि...   \n",
       "1  <start> मई आपको ऐसे ही एक बच्चे के बारे में बत...   \n",
       "2  <start> यह प्रतिशत भारत में हिन्दुओं प्रतिशत स...   \n",
       "3  <start> हम ये नहीं कहना चाहते कि वो ध्यान नहीं...   \n",
       "4  <start> इन्हीं वेदों का अंतिम भाग उपनिषद कहलात...   \n",
       "\n",
       "                                      decoder_output  \n",
       "0  राजनीतिज्ञों के पास जो कार्य करना चाहिए वह करन...  \n",
       "1  मई आपको ऐसे ही एक बच्चे के बारे में बताना चाहू...  \n",
       "2  यह प्रतिशत भारत में हिन्दुओं प्रतिशत से अधिक ह...  \n",
       "3  हम ये नहीं कहना चाहते कि वो ध्यान नहीं दे पाते...  \n",
       "4  इन्हीं वेदों का अंतिम भाग उपनिषद कहलाता है <en...  "
      ]
     },
     "execution_count": 19,
     "metadata": {},
     "output_type": "execute_result"
    }
   ],
   "source": [
    "df=train_df[['source','encoder_input','decoder_input','decoder_output']] #storing required columns after preprocessing\n",
    "\n",
    "df.to_csv('procedded_data.csv',index=False)\n",
    "df_p=pd.read_csv('procedded_data.csv')\n",
    "df_p.head()"
   ]
  }
 ],
 "metadata": {
  "accelerator": "GPU",
  "colab": {
   "collapsed_sections": [],
   "name": "Copy of All_ML_codes1.ipynb",
   "provenance": []
  },
  "kernelspec": {
   "display_name": "Python 3",
   "language": "python",
   "name": "python3"
  },
  "language_info": {
   "codemirror_mode": {
    "name": "ipython",
    "version": 3
   },
   "file_extension": ".py",
   "mimetype": "text/x-python",
   "name": "python",
   "nbconvert_exporter": "python",
   "pygments_lexer": "ipython3",
   "version": "3.7.3"
  }
 },
 "nbformat": 4,
 "nbformat_minor": 1
}
