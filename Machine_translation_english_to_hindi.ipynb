{
 "cells": [
  {
   "cell_type": "code",
   "execution_count": 1,
   "metadata": {
    "id": "-ZV-AnOEa9KE"
   },
   "outputs": [],
   "source": [
    "import warnings\n",
    "warnings.filterwarnings(\"ignore\")\n",
    "import pandas as pd\n",
    "import re\n",
    "import numpy as np\n",
    "import pickle\n",
    "import matplotlib.pyplot as plt"
   ]
  },
  {
   "cell_type": "code",
   "execution_count": 2,
   "metadata": {
    "id": "J8o87Nd_JWk_"
   },
   "outputs": [],
   "source": [
    "from sklearn.model_selection import train_test_split\n",
    "from tqdm import tqdm\n",
    "from sklearn.metrics import accuracy_score\n",
    "from nltk.translate.bleu_score import sentence_bleu"
   ]
  },
  {
   "cell_type": "code",
   "execution_count": 3,
   "metadata": {
    "id": "tKNLJ62xKTvK"
   },
   "outputs": [],
   "source": [
    "from keras.layers import Input, LSTM, Embedding, Dense,Flatten\n",
    "from keras.models import Model\n",
    "from keras import optimizers\n",
    "from tensorflow.keras import callbacks\n",
    "from tensorflow.keras.utils import plot_model"
   ]
  },
  {
   "cell_type": "code",
   "execution_count": 4,
   "metadata": {
    "id": "yLO56PBmKTvL"
   },
   "outputs": [],
   "source": [
    "from tensorflow.python.keras.preprocessing.text import Tokenizer\n",
    "from tensorflow.python.keras.preprocessing.sequence import pad_sequences"
   ]
  },
  {
   "cell_type": "code",
   "execution_count": 5,
   "metadata": {
    "colab": {
     "base_uri": "https://localhost:8080/"
    },
    "id": "IiJumyIEKbP1",
    "outputId": "6f8525a4-fe10-4e10-bb2d-9c2de4e8a948"
   },
   "outputs": [
    {
     "name": "stdout",
     "output_type": "stream",
     "text": [
      "Drive already mounted at /content/drive; to attempt to forcibly remount, call drive.mount(\"/content/drive\", force_remount=True).\n"
     ]
    }
   ],
   "source": [
    "from google.colab import drive\n",
    "drive.mount('/content/drive')"
   ]
  },
  {
   "cell_type": "code",
   "execution_count": 6,
   "metadata": {
    "colab": {
     "base_uri": "https://localhost:8080/",
     "height": 202
    },
    "id": "bop7NqpDKTvM",
    "outputId": "8f46cdcb-e841-471b-aca7-411b11f6376a"
   },
   "outputs": [
    {
     "data": {
      "text/html": [
       "<div>\n",
       "<style scoped>\n",
       "    .dataframe tbody tr th:only-of-type {\n",
       "        vertical-align: middle;\n",
       "    }\n",
       "\n",
       "    .dataframe tbody tr th {\n",
       "        vertical-align: top;\n",
       "    }\n",
       "\n",
       "    .dataframe thead th {\n",
       "        text-align: right;\n",
       "    }\n",
       "</style>\n",
       "<table border=\"1\" class=\"dataframe\">\n",
       "  <thead>\n",
       "    <tr style=\"text-align: right;\">\n",
       "      <th></th>\n",
       "      <th>source</th>\n",
       "      <th>encoder_input</th>\n",
       "      <th>decoder_input</th>\n",
       "      <th>decoder_output</th>\n",
       "    </tr>\n",
       "  </thead>\n",
       "  <tbody>\n",
       "    <tr>\n",
       "      <th>0</th>\n",
       "      <td>ted</td>\n",
       "      <td>&lt;start&gt; politicians do not have permission to ...</td>\n",
       "      <td>&lt;start&gt; राजनीतिज्ञों के पास जो कार्य करना चाहि...</td>\n",
       "      <td>राजनीतिज्ञों के पास जो कार्य करना चाहिए वह करन...</td>\n",
       "    </tr>\n",
       "    <tr>\n",
       "      <th>1</th>\n",
       "      <td>ted</td>\n",
       "      <td>&lt;start&gt; i would like to tell you about one suc...</td>\n",
       "      <td>&lt;start&gt; मई आपको ऐसे ही एक बच्चे के बारे में बत...</td>\n",
       "      <td>मई आपको ऐसे ही एक बच्चे के बारे में बताना चाहू...</td>\n",
       "    </tr>\n",
       "    <tr>\n",
       "      <th>2</th>\n",
       "      <td>indic2012</td>\n",
       "      <td>&lt;start&gt; this percentage is even greater than t...</td>\n",
       "      <td>&lt;start&gt; यह प्रतिशत भारत में हिन्दुओं प्रतिशत स...</td>\n",
       "      <td>यह प्रतिशत भारत में हिन्दुओं प्रतिशत से अधिक ह...</td>\n",
       "    </tr>\n",
       "    <tr>\n",
       "      <th>3</th>\n",
       "      <td>ted</td>\n",
       "      <td>&lt;start&gt; what we really mean is that they are b...</td>\n",
       "      <td>&lt;start&gt; हम ये नहीं कहना चाहते कि वो ध्यान नहीं...</td>\n",
       "      <td>हम ये नहीं कहना चाहते कि वो ध्यान नहीं दे पाते...</td>\n",
       "    </tr>\n",
       "    <tr>\n",
       "      <th>4</th>\n",
       "      <td>indic2012</td>\n",
       "      <td>&lt;start&gt; the ending portion of these vedas is c...</td>\n",
       "      <td>&lt;start&gt; इन्हीं वेदों का अंतिम भाग उपनिषद कहलात...</td>\n",
       "      <td>इन्हीं वेदों का अंतिम भाग उपनिषद कहलाता है &lt;en...</td>\n",
       "    </tr>\n",
       "  </tbody>\n",
       "</table>\n",
       "</div>"
      ],
      "text/plain": [
       "      source  ...                                     decoder_output\n",
       "0        ted  ...  राजनीतिज्ञों के पास जो कार्य करना चाहिए वह करन...\n",
       "1        ted  ...  मई आपको ऐसे ही एक बच्चे के बारे में बताना चाहू...\n",
       "2  indic2012  ...  यह प्रतिशत भारत में हिन्दुओं प्रतिशत से अधिक ह...\n",
       "3        ted  ...  हम ये नहीं कहना चाहते कि वो ध्यान नहीं दे पाते...\n",
       "4  indic2012  ...  इन्हीं वेदों का अंतिम भाग उपनिषद कहलाता है <en...\n",
       "\n",
       "[5 rows x 4 columns]"
      ]
     },
     "execution_count": 6,
     "metadata": {
      "tags": []
     },
     "output_type": "execute_result"
    }
   ],
   "source": [
    "train_df=pd.read_csv('/content/drive/MyDrive/ Machine_translation/procedded_data.csv')\n",
    "train_df.head()"
   ]
  },
  {
   "cell_type": "code",
   "execution_count": 7,
   "metadata": {
    "colab": {
     "base_uri": "https://localhost:8080/"
    },
    "id": "6XqE4i_0KTvN",
    "outputId": "b1c7f260-a9f6-4132-e3b2-d1342dbe4dd8"
   },
   "outputs": [
    {
     "data": {
      "text/plain": [
       "1    <start> i would like to tell you about one suc...\n",
       "Name: encoder_input, dtype: object"
      ]
     },
     "execution_count": 7,
     "metadata": {
      "tags": []
     },
     "output_type": "execute_result"
    }
   ],
   "source": [
    "train_df['encoder_input'][1:2]"
   ]
  },
  {
   "cell_type": "code",
   "execution_count": 8,
   "metadata": {
    "colab": {
     "base_uri": "https://localhost:8080/"
    },
    "id": "RiXIAC13KTvN",
    "outputId": "9268cba0-8ac9-482d-e4ea-7b50b18a5a9a"
   },
   "outputs": [
    {
     "data": {
      "text/plain": [
       "(127607, 4)"
      ]
     },
     "execution_count": 8,
     "metadata": {
      "tags": []
     },
     "output_type": "execute_result"
    }
   ],
   "source": [
    "train_df.shape"
   ]
  },
  {
   "cell_type": "code",
   "execution_count": 9,
   "metadata": {
    "colab": {
     "base_uri": "https://localhost:8080/"
    },
    "id": "INDpkZz_KTvO",
    "outputId": "60d5c10d-73d3-4739-9189-256b82528364"
   },
   "outputs": [
    {
     "data": {
      "text/plain": [
       "tides        50000\n",
       "ted          39881\n",
       "indic2012    37726\n",
       "Name: source, dtype: int64"
      ]
     },
     "execution_count": 9,
     "metadata": {
      "tags": []
     },
     "output_type": "execute_result"
    }
   ],
   "source": [
    "train_df['source'].value_counts()"
   ]
  },
  {
   "cell_type": "code",
   "execution_count": 11,
   "metadata": {
    "id": "5u0Sv89kKTvQ"
   },
   "outputs": [],
   "source": [
    "def find_length(sentence):\n",
    "    return len(sentence.split())"
   ]
  },
  {
   "cell_type": "code",
   "execution_count": 12,
   "metadata": {
    "id": "FD1eHFVoKTvR"
   },
   "outputs": [],
   "source": [
    "train_df['len_encoder_input'] = train_df['encoder_input'].apply(find_length)\n",
    "train_df['len_decoder_input'] = train_df['decoder_input'].apply(find_length)"
   ]
  },
  {
   "cell_type": "code",
   "execution_count": 13,
   "metadata": {
    "colab": {
     "base_uri": "https://localhost:8080/",
     "height": 202
    },
    "id": "sdVMRXhRKTvR",
    "outputId": "1310e05e-5856-459a-e049-e5b2f57088ac"
   },
   "outputs": [
    {
     "data": {
      "text/html": [
       "<div>\n",
       "<style scoped>\n",
       "    .dataframe tbody tr th:only-of-type {\n",
       "        vertical-align: middle;\n",
       "    }\n",
       "\n",
       "    .dataframe tbody tr th {\n",
       "        vertical-align: top;\n",
       "    }\n",
       "\n",
       "    .dataframe thead th {\n",
       "        text-align: right;\n",
       "    }\n",
       "</style>\n",
       "<table border=\"1\" class=\"dataframe\">\n",
       "  <thead>\n",
       "    <tr style=\"text-align: right;\">\n",
       "      <th></th>\n",
       "      <th>source</th>\n",
       "      <th>encoder_input</th>\n",
       "      <th>decoder_input</th>\n",
       "      <th>decoder_output</th>\n",
       "      <th>len_encoder_input</th>\n",
       "      <th>len_decoder_input</th>\n",
       "    </tr>\n",
       "  </thead>\n",
       "  <tbody>\n",
       "    <tr>\n",
       "      <th>0</th>\n",
       "      <td>ted</td>\n",
       "      <td>&lt;start&gt; politicians do not have permission to ...</td>\n",
       "      <td>&lt;start&gt; राजनीतिज्ञों के पास जो कार्य करना चाहि...</td>\n",
       "      <td>राजनीतिज्ञों के पास जो कार्य करना चाहिए वह करन...</td>\n",
       "      <td>14</td>\n",
       "      <td>15</td>\n",
       "    </tr>\n",
       "    <tr>\n",
       "      <th>1</th>\n",
       "      <td>ted</td>\n",
       "      <td>&lt;start&gt; i would like to tell you about one suc...</td>\n",
       "      <td>&lt;start&gt; मई आपको ऐसे ही एक बच्चे के बारे में बत...</td>\n",
       "      <td>मई आपको ऐसे ही एक बच्चे के बारे में बताना चाहू...</td>\n",
       "      <td>12</td>\n",
       "      <td>13</td>\n",
       "    </tr>\n",
       "    <tr>\n",
       "      <th>2</th>\n",
       "      <td>indic2012</td>\n",
       "      <td>&lt;start&gt; this percentage is even greater than t...</td>\n",
       "      <td>&lt;start&gt; यह प्रतिशत भारत में हिन्दुओं प्रतिशत स...</td>\n",
       "      <td>यह प्रतिशत भारत में हिन्दुओं प्रतिशत से अधिक ह...</td>\n",
       "      <td>12</td>\n",
       "      <td>11</td>\n",
       "    </tr>\n",
       "    <tr>\n",
       "      <th>3</th>\n",
       "      <td>ted</td>\n",
       "      <td>&lt;start&gt; what we really mean is that they are b...</td>\n",
       "      <td>&lt;start&gt; हम ये नहीं कहना चाहते कि वो ध्यान नहीं...</td>\n",
       "      <td>हम ये नहीं कहना चाहते कि वो ध्यान नहीं दे पाते...</td>\n",
       "      <td>15</td>\n",
       "      <td>13</td>\n",
       "    </tr>\n",
       "    <tr>\n",
       "      <th>4</th>\n",
       "      <td>indic2012</td>\n",
       "      <td>&lt;start&gt; the ending portion of these vedas is c...</td>\n",
       "      <td>&lt;start&gt; इन्हीं वेदों का अंतिम भाग उपनिषद कहलात...</td>\n",
       "      <td>इन्हीं वेदों का अंतिम भाग उपनिषद कहलाता है &lt;en...</td>\n",
       "      <td>11</td>\n",
       "      <td>10</td>\n",
       "    </tr>\n",
       "  </tbody>\n",
       "</table>\n",
       "</div>"
      ],
      "text/plain": [
       "      source  ... len_decoder_input\n",
       "0        ted  ...                15\n",
       "1        ted  ...                13\n",
       "2  indic2012  ...                11\n",
       "3        ted  ...                13\n",
       "4  indic2012  ...                10\n",
       "\n",
       "[5 rows x 6 columns]"
      ]
     },
     "execution_count": 13,
     "metadata": {
      "tags": []
     },
     "output_type": "execute_result"
    }
   ],
   "source": [
    "train_df.head()"
   ]
  },
  {
   "cell_type": "code",
   "execution_count": 14,
   "metadata": {
    "colab": {
     "base_uri": "https://localhost:8080/"
    },
    "id": "FJga9t-5KTvR",
    "outputId": "7ca02e80-1a74-4b4d-a450-dc2cc06f33e7"
   },
   "outputs": [
    {
     "data": {
      "text/plain": [
       "12"
      ]
     },
     "execution_count": 14,
     "metadata": {
      "tags": []
     },
     "output_type": "execute_result"
    }
   ],
   "source": [
    "max_len_eng = 12  \n",
    "max_len_eng"
   ]
  },
  {
   "cell_type": "code",
   "execution_count": 15,
   "metadata": {
    "colab": {
     "base_uri": "https://localhost:8080/"
    },
    "id": "mNEPJoQxKTvS",
    "outputId": "e7ae449f-6654-4d4c-ad91-aebbdcf3917d"
   },
   "outputs": [
    {
     "data": {
      "text/plain": [
       "14"
      ]
     },
     "execution_count": 15,
     "metadata": {
      "tags": []
     },
     "output_type": "execute_result"
    }
   ],
   "source": [
    "max_len_hindi =14 \n",
    "max_len_hindi"
   ]
  },
  {
   "cell_type": "code",
   "execution_count": 16,
   "metadata": {
    "colab": {
     "base_uri": "https://localhost:8080/"
    },
    "id": "YO3oCuBcKTvS",
    "outputId": "f18543e6-9f8e-4628-d944-3f383eb7cce5"
   },
   "outputs": [
    {
     "data": {
      "text/plain": [
       "(57983, 6)"
      ]
     },
     "execution_count": 16,
     "metadata": {
      "tags": []
     },
     "output_type": "execute_result"
    }
   ],
   "source": [
    "train_df=train_df[train_df['len_encoder_input']<=max_len_eng]\n",
    "train_df.shape"
   ]
  },
  {
   "cell_type": "code",
   "execution_count": 17,
   "metadata": {
    "colab": {
     "base_uri": "https://localhost:8080/"
    },
    "id": "3a18Jv9cKTvT",
    "outputId": "91d60012-6251-4022-986a-a98a7e43213c"
   },
   "outputs": [
    {
     "data": {
      "text/plain": [
       "(53868, 6)"
      ]
     },
     "execution_count": 17,
     "metadata": {
      "tags": []
     },
     "output_type": "execute_result"
    }
   ],
   "source": [
    "train_df=train_df[train_df['len_decoder_input']<=max_len_hindi]\n",
    "train_df.shape"
   ]
  },
  {
   "cell_type": "code",
   "execution_count": 18,
   "metadata": {
    "colab": {
     "base_uri": "https://localhost:8080/"
    },
    "id": "iMSvFOW2KTvT",
    "outputId": "5a88f084-623a-40a0-c110-29d18900fa98"
   },
   "outputs": [
    {
     "data": {
      "text/plain": [
       "((45787, 6), (8081, 6))"
      ]
     },
     "execution_count": 18,
     "metadata": {
      "tags": []
     },
     "output_type": "execute_result"
    }
   ],
   "source": [
    "from sklearn.model_selection import train_test_split\n",
    "train, test = train_test_split(train_df, test_size=0.15,random_state=42)\n",
    "train.shape,test.shape"
   ]
  },
  {
   "cell_type": "code",
   "execution_count": 19,
   "metadata": {
    "colab": {
     "base_uri": "https://localhost:8080/"
    },
    "id": "nwa4FJB-KTvU",
    "outputId": "753e647c-43c3-4281-b59a-778af2234f45"
   },
   "outputs": [
    {
     "data": {
      "text/plain": [
       "(21760, 12)"
      ]
     },
     "execution_count": 19,
     "metadata": {
      "tags": []
     },
     "output_type": "execute_result"
    }
   ],
   "source": [
    "tknizer_eng = Tokenizer(filters='!\"#$%&()*+,-./:;=?@[\\\\]^_`{|}~\\t\\n')\n",
    "tknizer_eng.fit_on_texts(train['encoder_input'].values)\n",
    "\n",
    "vocab_size_eng = len(tknizer_eng.word_index) + 1\n",
    "vocab_size_eng,max_len_eng"
   ]
  },
  {
   "cell_type": "code",
   "execution_count": 20,
   "metadata": {
    "colab": {
     "base_uri": "https://localhost:8080/"
    },
    "id": "k835GsQUKTvU",
    "outputId": "70c4f317-3edf-4a06-bd85-0a71d12d991d"
   },
   "outputs": [
    {
     "data": {
      "text/plain": [
       "(23096, 14)"
      ]
     },
     "execution_count": 20,
     "metadata": {
      "tags": []
     },
     "output_type": "execute_result"
    }
   ],
   "source": [
    "tknizer_hindi = Tokenizer(filters='!\"#$%&()*+,-./:;=?@[\\\\]^_`{|}~\\t\\n')\n",
    "tknizer_hindi.fit_on_texts(train['decoder_input'].values)\n",
    "\n",
    "vocab_size_hindi = len(tknizer_hindi.word_index) + 1\n",
    "vocab_size_hindi,max_len_hindi"
   ]
  },
  {
   "cell_type": "code",
   "execution_count": 21,
   "metadata": {
    "colab": {
     "base_uri": "https://localhost:8080/"
    },
    "id": "v4Z_isx2KTvU",
    "outputId": "50c37dce-4d17-4bcd-c278-36c14c11f342"
   },
   "outputs": [
    {
     "data": {
      "text/plain": [
       "(1, 2)"
      ]
     },
     "execution_count": 21,
     "metadata": {
      "tags": []
     },
     "output_type": "execute_result"
    }
   ],
   "source": [
    "tknizer_eng.word_index['<start>'],tknizer_eng.word_index['<end>']"
   ]
  },
  {
   "cell_type": "code",
   "execution_count": 22,
   "metadata": {
    "colab": {
     "base_uri": "https://localhost:8080/"
    },
    "id": "PPG-zptWKTvV",
    "outputId": "11ac7f14-3690-4033-de11-f69878056158"
   },
   "outputs": [
    {
     "data": {
      "text/plain": [
       "('<start>', '<end>')"
      ]
     },
     "execution_count": 22,
     "metadata": {
      "tags": []
     },
     "output_type": "execute_result"
    }
   ],
   "source": [
    "tknizer_eng.index_word[1],tknizer_eng.index_word[2]"
   ]
  },
  {
   "cell_type": "code",
   "execution_count": 23,
   "metadata": {
    "id": "_npHJyn8KTvV"
   },
   "outputs": [],
   "source": [
    "X_train_e=tknizer_eng.texts_to_sequences(train['encoder_input'])\n",
    "X_train_h=tknizer_hindi.texts_to_sequences(train['decoder_input'])\n",
    "y_train_h=tknizer_hindi.texts_to_sequences(train['decoder_output'])\n",
    "\n",
    "X_test_e=tknizer_eng.texts_to_sequences(test['encoder_input'])\n",
    "X_test_h=tknizer_hindi.texts_to_sequences(test['decoder_input'])\n",
    "y_test_h=tknizer_hindi.texts_to_sequences(test['decoder_output']) "
   ]
  },
  {
   "cell_type": "code",
   "execution_count": 24,
   "metadata": {
    "id": "VKowsoD0KTvV"
   },
   "outputs": [],
   "source": [
    "X_train_e=pad_sequences(X_train_e,maxlen=max_len_eng,padding='post')\n",
    "X_train_h=pad_sequences(X_train_h,maxlen=max_len_hindi,padding='post')\n",
    "y_train_h=pad_sequences(y_train_h,maxlen=max_len_hindi,padding='post')\n",
    "\n",
    "X_test_e=pad_sequences(X_test_e,maxlen=max_len_eng,padding='post')\n",
    "X_test_h=pad_sequences(X_test_h,maxlen=max_len_hindi,padding='post')\n",
    "y_test_h=pad_sequences(y_test_h,maxlen=max_len_hindi,padding='post') "
   ]
  },
  {
   "cell_type": "code",
   "execution_count": 25,
   "metadata": {
    "colab": {
     "base_uri": "https://localhost:8080/"
    },
    "id": "iWlYlgb0KTvW",
    "outputId": "578ef0aa-7e79-4598-db6a-b36d3d35e2ca"
   },
   "outputs": [
    {
     "data": {
      "text/plain": [
       "((45787, 12), (45787, 14), (45787, 14), (8081, 12), (8081, 14), (8081, 14))"
      ]
     },
     "execution_count": 25,
     "metadata": {
      "tags": []
     },
     "output_type": "execute_result"
    }
   ],
   "source": [
    "X_train_e.shape,X_train_h.shape,y_train_h.shape,X_test_e.shape,X_test_h.shape,y_test_h.shape"
   ]
  },
  {
   "cell_type": "code",
   "execution_count": 26,
   "metadata": {
    "colab": {
     "base_uri": "https://localhost:8080/"
    },
    "id": "GS1uRUsLKTvW",
    "outputId": "1ab2d758-0516-4aee-e79b-c4d65112a379"
   },
   "outputs": [
    {
     "name": "stdout",
     "output_type": "stream",
     "text": [
      "(45787, 12)\n"
     ]
    },
    {
     "data": {
      "text/plain": [
       "array([[   1,    6,   14, ...,    2,    0,    0],\n",
       "       [   1,  333,  453, ...,    0,    0,    0],\n",
       "       [   1, 3734,   43, ..., 4239,    2,    0],\n",
       "       ...,\n",
       "       [   1,   13,   58, ...,    0,    0,    0],\n",
       "       [   1,   24,    3, ...,    0,    0,    0],\n",
       "       [   1,   30,   96, ...,    0,    0,    0]], dtype=int32)"
      ]
     },
     "execution_count": 26,
     "metadata": {
      "tags": []
     },
     "output_type": "execute_result"
    }
   ],
   "source": [
    "print(X_train_e.shape)\n",
    "X_train_e"
   ]
  },
  {
   "cell_type": "code",
   "execution_count": 27,
   "metadata": {
    "colab": {
     "base_uri": "https://localhost:8080/"
    },
    "id": "_DBLapk0KTvW",
    "outputId": "6c8394e0-2bce-45b7-8cb8-98ade7098307"
   },
   "outputs": [
    {
     "name": "stdout",
     "output_type": "stream",
     "text": [
      "(45787, 14)\n"
     ]
    },
    {
     "data": {
      "text/plain": [
       "array([[   1,    4,  275, ...,    0,    0,    0],\n",
       "       [   1, 5704,  385, ...,    0,    0,    0],\n",
       "       [   1,  905,    5, ...,    0,    0,    0],\n",
       "       ...,\n",
       "       [   1,   11,  124, ...,    0,    0,    0],\n",
       "       [   1,  789,    4, ...,    0,    0,    0],\n",
       "       [   1,   95,   14, ...,    0,    0,    0]], dtype=int32)"
      ]
     },
     "execution_count": 27,
     "metadata": {
      "tags": []
     },
     "output_type": "execute_result"
    }
   ],
   "source": [
    "print(X_train_h.shape)\n",
    "X_train_h"
   ]
  },
  {
   "cell_type": "code",
   "execution_count": 28,
   "metadata": {
    "colab": {
     "base_uri": "https://localhost:8080/"
    },
    "id": "HcXSCAycKTvX",
    "outputId": "d34d665e-060f-4b60-d68b-f452c3c6454b"
   },
   "outputs": [
    {
     "data": {
      "text/plain": [
       "array([[   4,  275,  628, ...,    0,    0,    0],\n",
       "       [5704,  385, 2120, ...,    0,    0,    0],\n",
       "       [ 905,    5,  405, ...,    0,    0,    0],\n",
       "       ...,\n",
       "       [  11,  124,   11, ...,    0,    0,    0],\n",
       "       [ 789,    4, 1616, ...,    0,    0,    0],\n",
       "       [  95,   14,   23, ...,    0,    0,    0]], dtype=int32)"
      ]
     },
     "execution_count": 28,
     "metadata": {
      "tags": []
     },
     "output_type": "execute_result"
    }
   ],
   "source": [
    "y_train_h"
   ]
  },
  {
   "cell_type": "code",
   "execution_count": 29,
   "metadata": {
    "id": "_vJA6Tn-KTvX"
   },
   "outputs": [],
   "source": [
    "def generate_batch(X_e,X_h,y_h,batch_size):\n",
    "    while True:\n",
    "        for i in range(0,X_e.shape[0]//batch_size):\n",
    "            encoder_input = X_e[i*batch_size:(i+1)*batch_size]\n",
    "            decoder_input = X_h[i*batch_size:(i+1)*batch_size]\n",
    "            decoder_output_= y_h[i*batch_size:(i+1)*batch_size]\n",
    "            decoder_output=np.zeros((batch_size,max_len_hindi,vocab_size_hindi))\n",
    "            for i in range(batch_size):\n",
    "                for j in range(max_len_hindi):\n",
    "                    k=decoder_output_[i][j]\n",
    "                    if k!=0:\n",
    "                        decoder_output[i][j][k]=1\n",
    "                    else:\n",
    "                        continue\n",
    "            yield([encoder_input, decoder_input], decoder_output)    "
   ]
  },
  {
   "cell_type": "code",
   "execution_count": 30,
   "metadata": {
    "id": "NUb0rX4vjSH3"
   },
   "outputs": [],
   "source": [
    "#early stopping\n",
    "from tensorflow.keras.callbacks import EarlyStopping\n",
    "earlystop = EarlyStopping(monitor='val_loss', patience=5,restore_best_weights=True,verbose=1,mode='min')"
   ]
  },
  {
   "cell_type": "code",
   "execution_count": 31,
   "metadata": {
    "id": "Dma0g0EIjSA2"
   },
   "outputs": [],
   "source": [
    "class LossHistory(callbacks.Callback):\n",
    "    \n",
    "    def on_train_begin(self, logs={}):\n",
    "        ## on begin of training, we are creating a instance varible called history\n",
    "        ## it is a dict with keys [loss, acc, val_loss, val_acc]\n",
    "        self.history={'loss': [],'val_loss': []}\n",
    "        \n",
    "    def on_epoch_end(self, epoch, logs={}):\n",
    "        ## on end of each epoch, we will get logs and update the self.history dict\n",
    "        self.history['loss'].append(logs.get('loss'))\n",
    "        if logs.get('val_loss', -1) != -1:\n",
    "            self.history['val_loss'].append(logs.get('val_loss'))\n",
    "            \n",
    "history_own=LossHistory()   "
   ]
  },
  {
   "cell_type": "code",
   "execution_count": 32,
   "metadata": {
    "id": "aCspFOTMjR5g"
   },
   "outputs": [],
   "source": [
    "from keras.callbacks import LearningRateScheduler\n",
    "def changeLearningRate(epoch,lr):\n",
    "    if len(history_own.history['val_loss'])>1: #check if there there two elements   \n",
    "        if(history_own.history['val_loss'][-1] > history_own.history['val_loss'][-2]): #check if loss is more than previous log loss\n",
    "            return(lr-(0.1*lr))                               #if true reduce learning rate\n",
    "    if ((epoch+1)%10)==0 and epoch!=0:   #reduce learning rate for every 10th epoch\n",
    "        return(lr-(0.05*lr))\n",
    "    else:\n",
    "        return lr\n",
    "lrschedule = LearningRateScheduler(changeLearningRate, verbose=1)"
   ]
  },
  {
   "cell_type": "code",
   "execution_count": 33,
   "metadata": {
    "id": "2ZOy425TkjCk"
   },
   "outputs": [],
   "source": [
    "callback_list = [history_own,earlystop,lrschedule] "
   ]
  },
  {
   "cell_type": "code",
   "execution_count": 34,
   "metadata": {
    "id": "m1PtKyFJKTvX"
   },
   "outputs": [],
   "source": [
    "embedding_dim=150\n",
    "lstm_units=100\n",
    "batch_size=64"
   ]
  },
  {
   "cell_type": "code",
   "execution_count": 35,
   "metadata": {
    "colab": {
     "base_uri": "https://localhost:8080/"
    },
    "id": "ekM8LWkmgLOb",
    "outputId": "73721f7b-17d3-410d-d586-fd16764166b1"
   },
   "outputs": [
    {
     "name": "stdout",
     "output_type": "stream",
     "text": [
      "Encoder input :  (None, None)\n",
      "Encoder after embedding layer :  (None, None, 150)\n",
      "Encoder output after lstm :  (None, 100)\n",
      "Encoder state_h after lstm :  (None, 100)\n",
      "Encoder state_c after lstm :  (None, 100)\n",
      "----------------------------------------\n"
     ]
    }
   ],
   "source": [
    "# Encoder\n",
    "# encoder_inputs = Input(batch_shape=(batch_size,max_len_eng))\n",
    "encoder_inputs = Input(shape=(None,),name='Encoder_input')\n",
    "print('Encoder input : ',encoder_inputs.shape)\n",
    "enc_emb =  Embedding(vocab_size_eng,embedding_dim,name='Encoder_embedding_layer')(encoder_inputs)\n",
    "print('Encoder after embedding layer : ',enc_emb.shape)\n",
    "encoder_lstm = LSTM(lstm_units, return_state=True,name='Encoder_lstm_layer')\n",
    "encoder_outputs, state_h, state_c = encoder_lstm(enc_emb)\n",
    "print('Encoder output after lstm : ',encoder_outputs.shape)\n",
    "print('Encoder state_h after lstm : ',state_h.shape)\n",
    "print('Encoder state_c after lstm : ',state_c.shape)\n",
    "print('-'*40)\n",
    "# We discard `encoder_outputs` and only keep the states.\n",
    "encoder_states = [state_h, state_c]"
   ]
  },
  {
   "cell_type": "code",
   "execution_count": 36,
   "metadata": {
    "colab": {
     "base_uri": "https://localhost:8080/"
    },
    "id": "yH3IlORxKTvY",
    "outputId": "66413a8b-04f1-4bfd-ca83-542683623b99"
   },
   "outputs": [
    {
     "name": "stdout",
     "output_type": "stream",
     "text": [
      "Decoder inputs :  (None, None)\n",
      "Decoder after embedding layer :  (None, None, 150)\n",
      "Decoder outputs after lstm :  (None, None, 100)\n",
      "Decoder outputs after dense layer :  (None, None, 23096)\n",
      "----------------------------------------\n"
     ]
    }
   ],
   "source": [
    "# Set up the decoder, using `encoder_states` as initial state.\n",
    "decoder_inputs = Input(shape=(None,),name='Decoder_input')\n",
    "print('Decoder inputs : ',decoder_inputs.shape)\n",
    "dec_emb_layer = Embedding(vocab_size_hindi,embedding_dim,name='Decoder_embedding_layer')\n",
    "dec_emb = dec_emb_layer(decoder_inputs)\n",
    "print('Decoder after embedding layer : ',dec_emb.shape)\n",
    "# We set up our decoder to return full output sequences,\n",
    "# and to return internal states as well. We don't use the\n",
    "# return states in the training model, but we will use them in inference.\n",
    "decoder_lstm = LSTM(lstm_units, return_sequences=True, return_state=True,name='Decoder_lstm_layer')\n",
    "decoder_outputs, _, _ = decoder_lstm(dec_emb,initial_state=encoder_states)\n",
    "print('Decoder outputs after lstm : ',decoder_outputs.shape)\n",
    "decoder_dense = Dense(vocab_size_hindi, activation='softmax',name='Decoder_dense_layer')\n",
    "decoder_outputs = decoder_dense(decoder_outputs)\n",
    "print('Decoder outputs after dense layer : ',decoder_outputs.shape)\n",
    "print('-'*40)\n",
    "# Define the model that will turn\n",
    "# `encoder_input_data` & `decoder_input_data` into `decoder_target_data`\n",
    "model = Model([encoder_inputs, decoder_inputs], decoder_outputs)"
   ]
  },
  {
   "cell_type": "code",
   "execution_count": 37,
   "metadata": {
    "id": "8cKea5xzKTvZ"
   },
   "outputs": [],
   "source": [
    "model.compile(optimizer='rmsprop', loss='categorical_crossentropy')"
   ]
  },
  {
   "cell_type": "code",
   "execution_count": 38,
   "metadata": {
    "colab": {
     "base_uri": "https://localhost:8080/"
    },
    "id": "czpAynEXKTvZ",
    "outputId": "c865225f-81a8-4c49-dc14-05ebc963b9dc"
   },
   "outputs": [
    {
     "name": "stdout",
     "output_type": "stream",
     "text": [
      "Model: \"model\"\n",
      "__________________________________________________________________________________________________\n",
      "Layer (type)                    Output Shape         Param #     Connected to                     \n",
      "==================================================================================================\n",
      "Encoder_input (InputLayer)      [(None, None)]       0                                            \n",
      "__________________________________________________________________________________________________\n",
      "Decoder_input (InputLayer)      [(None, None)]       0                                            \n",
      "__________________________________________________________________________________________________\n",
      "Encoder_embedding_layer (Embedd (None, None, 150)    3264000     Encoder_input[0][0]              \n",
      "__________________________________________________________________________________________________\n",
      "Decoder_embedding_layer (Embedd (None, None, 150)    3464400     Decoder_input[0][0]              \n",
      "__________________________________________________________________________________________________\n",
      "Encoder_lstm_layer (LSTM)       [(None, 100), (None, 100400      Encoder_embedding_layer[0][0]    \n",
      "__________________________________________________________________________________________________\n",
      "Decoder_lstm_layer (LSTM)       [(None, None, 100),  100400      Decoder_embedding_layer[0][0]    \n",
      "                                                                 Encoder_lstm_layer[0][1]         \n",
      "                                                                 Encoder_lstm_layer[0][2]         \n",
      "__________________________________________________________________________________________________\n",
      "Decoder_dense_layer (Dense)     (None, None, 23096)  2332696     Decoder_lstm_layer[0][0]         \n",
      "==================================================================================================\n",
      "Total params: 9,261,896\n",
      "Trainable params: 9,261,896\n",
      "Non-trainable params: 0\n",
      "__________________________________________________________________________________________________\n"
     ]
    }
   ],
   "source": [
    "model.summary()"
   ]
  },
  {
   "cell_type": "code",
   "execution_count": 39,
   "metadata": {
    "colab": {
     "base_uri": "https://localhost:8080/",
     "height": 533
    },
    "id": "NfCc4V1-Kwzn",
    "outputId": "e7a10d8b-7c32-4c2d-d7aa-9329022a20cd"
   },
   "outputs": [
    {
     "data": {
      "image/png": "[encoded data removed]",
      "text/plain": [
       "<IPython.core.display.Image object>"
      ]
     },
     "execution_count": 39,
     "metadata": {
      "tags": []
     },
     "output_type": "execute_result"
    }
   ],
   "source": [
    "plot_model(model,'model_encoder_decoder.png',show_shapes=True)"
   ]
  },
  {
   "cell_type": "code",
   "execution_count": 40,
   "metadata": {
    "id": "8Y7g__JbKTva"
   },
   "outputs": [],
   "source": [
    "train_samples = len(X_train_e)\n",
    "val_samples = len(X_test_e)\n",
    "epochs = 200"
   ]
  },
  {
   "cell_type": "code",
   "execution_count": 41,
   "metadata": {
    "colab": {
     "base_uri": "https://localhost:8080/"
    },
    "id": "RmS8r34SKTva",
    "outputId": "3e3dac0d-1541-4f0c-9a92-62139d41a63e",
    "scrolled": true
   },
   "outputs": [
    {
     "name": "stdout",
     "output_type": "stream",
     "text": [
      "Epoch 1/200\n",
      "\n",
      "Epoch 00001: LearningRateScheduler reducing learning rate to 0.0010000000474974513.\n",
      "715/715 [==============================] - 95s 109ms/step - loss: 3.9536 - val_loss: 3.2731\n",
      "Epoch 2/200\n",
      "\n",
      "Epoch 00002: LearningRateScheduler reducing learning rate to 0.0010000000474974513.\n",
      "715/715 [==============================] - 76s 107ms/step - loss: 3.4034 - val_loss: 3.0285\n",
      "Epoch 3/200\n",
      "\n",
      "Epoch 00003: LearningRateScheduler reducing learning rate to 0.0010000000474974513.\n",
      "715/715 [==============================] - 77s 108ms/step - loss: 3.1214 - val_loss: 2.8954\n",
      "Epoch 4/200\n",
      "\n",
      "Epoch 00004: LearningRateScheduler reducing learning rate to 0.0010000000474974513.\n",
      "715/715 [==============================] - 76s 106ms/step - loss: 2.9516 - val_loss: 2.8144\n",
      "Epoch 5/200\n",
      "\n",
      "Epoch 00005: LearningRateScheduler reducing learning rate to 0.0010000000474974513.\n",
      "715/715 [==============================] - 76s 107ms/step - loss: 2.8332 - val_loss: 2.7586\n",
      "Epoch 6/200\n",
      "\n",
      "Epoch 00006: LearningRateScheduler reducing learning rate to 0.0010000000474974513.\n",
      "715/715 [==============================] - 76s 107ms/step - loss: 2.7335 - val_loss: 2.7264\n",
      "Epoch 7/200\n",
      "\n",
      "Epoch 00007: LearningRateScheduler reducing learning rate to 0.0010000000474974513.\n",
      "715/715 [==============================] - 74s 104ms/step - loss: 2.6442 - val_loss: 2.6904\n",
      "Epoch 8/200\n",
      "\n",
      "Epoch 00008: LearningRateScheduler reducing learning rate to 0.0010000000474974513.\n",
      "715/715 [==============================] - 74s 104ms/step - loss: 2.5616 - val_loss: 2.6853\n",
      "Epoch 9/200\n",
      "\n",
      "Epoch 00009: LearningRateScheduler reducing learning rate to 0.0010000000474974513.\n",
      "715/715 [==============================] - 74s 103ms/step - loss: 2.4845 - val_loss: 2.6566\n",
      "Epoch 10/200\n",
      "\n",
      "Epoch 00010: LearningRateScheduler reducing learning rate to 0.0009500000451225787.\n",
      "715/715 [==============================] - 76s 106ms/step - loss: 2.4097 - val_loss: 2.6428\n",
      "Epoch 11/200\n",
      "\n",
      "Epoch 00011: LearningRateScheduler reducing learning rate to 0.0009500000160187483.\n",
      "715/715 [==============================] - 74s 103ms/step - loss: 2.3388 - val_loss: 2.6430\n",
      "Epoch 12/200\n",
      "\n",
      "Epoch 00012: LearningRateScheduler reducing learning rate to 0.0008550000144168735.\n",
      "715/715 [==============================] - 73s 103ms/step - loss: 2.2686 - val_loss: 2.6246\n",
      "Epoch 13/200\n",
      "\n",
      "Epoch 00013: LearningRateScheduler reducing learning rate to 0.0008549999911338091.\n",
      "715/715 [==============================] - 75s 105ms/step - loss: 2.2065 - val_loss: 2.6243\n",
      "Epoch 14/200\n",
      "\n",
      "Epoch 00014: LearningRateScheduler reducing learning rate to 0.0008549999911338091.\n",
      "715/715 [==============================] - 75s 105ms/step - loss: 2.1484 - val_loss: 2.6176\n",
      "Epoch 15/200\n",
      "\n",
      "Epoch 00015: LearningRateScheduler reducing learning rate to 0.0008549999911338091.\n",
      "715/715 [==============================] - 74s 104ms/step - loss: 2.0939 - val_loss: 2.6361\n",
      "Epoch 16/200\n",
      "\n",
      "Epoch 00016: LearningRateScheduler reducing learning rate to 0.0007694999920204281.\n",
      "715/715 [==============================] - 74s 103ms/step - loss: 2.0359 - val_loss: 2.6337\n",
      "Epoch 17/200\n",
      "\n",
      "Epoch 00017: LearningRateScheduler reducing learning rate to 0.000769499980378896.\n",
      "715/715 [==============================] - 74s 103ms/step - loss: 1.9839 - val_loss: 2.6427\n",
      "Epoch 18/200\n",
      "\n",
      "Epoch 00018: LearningRateScheduler reducing learning rate to 0.0006925499823410064.\n",
      "715/715 [==============================] - 74s 103ms/step - loss: 1.9322 - val_loss: 2.6691\n",
      "Epoch 19/200\n",
      "\n",
      "Epoch 00019: LearningRateScheduler reducing learning rate to 0.0006232949788682162.\n",
      "715/715 [==============================] - 74s 103ms/step - loss: 1.8817 - val_loss: 2.6623\n",
      "Restoring model weights from the end of the best epoch.\n",
      "Epoch 00019: early stopping\n"
     ]
    },
    {
     "data": {
      "text/plain": [
       "<keras.callbacks.History at 0x7f775324d110>"
      ]
     },
     "execution_count": 41,
     "metadata": {
      "tags": []
     },
     "output_type": "execute_result"
    }
   ],
   "source": [
    "model.fit_generator(generator = generate_batch(X_train_e,X_train_h,y_train_h, batch_size = batch_size),\n",
    "                    steps_per_epoch = train_samples//batch_size,\n",
    "                    epochs=epochs,\n",
    "                    validation_data = generate_batch(X_test_e,X_test_h,y_test_h, batch_size = batch_size),\n",
    "                    validation_steps = val_samples//batch_size,callbacks=callback_list)"
   ]
  },
  {
   "cell_type": "code",
   "execution_count": 42,
   "metadata": {
    "id": "AgFzLmKnKTva"
   },
   "outputs": [],
   "source": [
    "model.save_weights('/content/drive/MyDrive/ Machine_translation/encoder_decoder_weights_200e.h5')"
   ]
  },
  {
   "cell_type": "code",
   "execution_count": 43,
   "metadata": {
    "id": "FPnazWJDKTvb"
   },
   "outputs": [],
   "source": [
    "model.load_weights('/content/drive/MyDrive/ Machine_translation/encoder_decoder_weights_200e.h5')"
   ]
  },
  {
   "cell_type": "code",
   "execution_count": 44,
   "metadata": {
    "colab": {
     "base_uri": "https://localhost:8080/",
     "height": 294
    },
    "id": "OuFZtA2fk4G9",
    "outputId": "ce163905-5cd1-467b-ea68-16863246d068"
   },
   "outputs": [
    {
     "data": {
      "image/png": "[encoded data removed]",
      "text/plain": [
       "<Figure size 432x288 with 1 Axes>"
      ]
     },
     "metadata": {
      "needs_background": "light",
      "tags": []
     },
     "output_type": "display_data"
    }
   ],
   "source": [
    "plt.plot(history_own.history['loss'], 'r')\n",
    "plt.plot(history_own.history['val_loss'], 'b')\n",
    "plt.legend({'Train loss': 'r', 'Validation loss':'b'})\n",
    "plt.ylabel('logloss')\n",
    "plt.xlabel('number of epoch')\n",
    "plt.title('Logloss vs epoch plot')\n",
    "plt.grid()\n",
    "plt.show()"
   ]
  },
  {
   "cell_type": "code",
   "execution_count": 45,
   "metadata": {
    "id": "WEJjxnfUKTvb"
   },
   "outputs": [],
   "source": [
    "# Encode the input sequence to get the \"thought vectors\"\n",
    "encoder_model = Model(encoder_inputs, encoder_states)\n",
    " \n",
    "# Decoder setup\n",
    "# Below tensors will hold the states of the previous time step\n",
    "decoder_state_input_h = Input(shape=(lstm_units,),name='Decoder_state_h')\n",
    "decoder_state_input_c = Input(shape=(lstm_units,),name='Decoder_state_c')\n",
    "decoder_states_inputs = [decoder_state_input_h, decoder_state_input_c]\n",
    "\n",
    "dec_emb2= dec_emb_layer(decoder_inputs) # Get the embeddings of the decoder sequence\n",
    "\n",
    "# To predict the next word in the sequence, set the initial states to the states from the previous time step\n",
    "decoder_outputs2, state_h2, state_c2 = decoder_lstm(dec_emb2, initial_state=decoder_states_inputs)\n",
    "decoder_states2 = [state_h2, state_c2]\n",
    "decoder_outputs2 = decoder_dense(decoder_outputs2) # A dense softmax layer to generate prob dist. over the target vocabulary\n",
    "\n",
    "# Final decoder model\n",
    "decoder_model = Model(\n",
    "    [decoder_inputs] + decoder_states_inputs,\n",
    "    [decoder_outputs2] + decoder_states2)"
   ]
  },
  {
   "cell_type": "code",
   "execution_count": 46,
   "metadata": {
    "colab": {
     "base_uri": "https://localhost:8080/"
    },
    "id": "r20WizPhKTvc",
    "outputId": "98522582-4c2b-45b0-d59f-57444d1dba40"
   },
   "outputs": [
    {
     "name": "stdout",
     "output_type": "stream",
     "text": [
      "Model: \"model_1\"\n",
      "_________________________________________________________________\n",
      "Layer (type)                 Output Shape              Param #   \n",
      "=================================================================\n",
      "Encoder_input (InputLayer)   [(None, None)]            0         \n",
      "_________________________________________________________________\n",
      "Encoder_embedding_layer (Emb (None, None, 150)         3264000   \n",
      "_________________________________________________________________\n",
      "Encoder_lstm_layer (LSTM)    [(None, 100), (None, 100) 100400    \n",
      "=================================================================\n",
      "Total params: 3,364,400\n",
      "Trainable params: 3,364,400\n",
      "Non-trainable params: 0\n",
      "_________________________________________________________________\n"
     ]
    }
   ],
   "source": [
    "encoder_model.summary()"
   ]
  },
  {
   "cell_type": "code",
   "execution_count": 47,
   "metadata": {
    "colab": {
     "base_uri": "https://localhost:8080/",
     "height": 312
    },
    "id": "JK5FwzloLS_D",
    "outputId": "aedd7fce-245b-427d-af58-c619dc58e934"
   },
   "outputs": [
    {
     "data": {
      "image/png": "[encoded data removed]",
      "text/plain": [
       "<IPython.core.display.Image object>"
      ]
     },
     "execution_count": 47,
     "metadata": {
      "tags": []
     },
     "output_type": "execute_result"
    }
   ],
   "source": [
    "plot_model(encoder_model,'model_encoder_decoder.png',show_shapes=True)"
   ]
  },
  {
   "cell_type": "code",
   "execution_count": 48,
   "metadata": {
    "colab": {
     "base_uri": "https://localhost:8080/"
    },
    "id": "AO3TgmLGKTvc",
    "outputId": "abc0516d-9c89-41d6-b6f1-466c70cf1328"
   },
   "outputs": [
    {
     "name": "stdout",
     "output_type": "stream",
     "text": [
      "Model: \"model_2\"\n",
      "__________________________________________________________________________________________________\n",
      "Layer (type)                    Output Shape         Param #     Connected to                     \n",
      "==================================================================================================\n",
      "Decoder_input (InputLayer)      [(None, None)]       0                                            \n",
      "__________________________________________________________________________________________________\n",
      "Decoder_embedding_layer (Embedd (None, None, 150)    3464400     Decoder_input[0][0]              \n",
      "__________________________________________________________________________________________________\n",
      "Decoder_state_h (InputLayer)    [(None, 100)]        0                                            \n",
      "__________________________________________________________________________________________________\n",
      "Decoder_state_c (InputLayer)    [(None, 100)]        0                                            \n",
      "__________________________________________________________________________________________________\n",
      "Decoder_lstm_layer (LSTM)       [(None, None, 100),  100400      Decoder_embedding_layer[1][0]    \n",
      "                                                                 Decoder_state_h[0][0]            \n",
      "                                                                 Decoder_state_c[0][0]            \n",
      "__________________________________________________________________________________________________\n",
      "Decoder_dense_layer (Dense)     (None, None, 23096)  2332696     Decoder_lstm_layer[1][0]         \n",
      "==================================================================================================\n",
      "Total params: 5,897,496\n",
      "Trainable params: 5,897,496\n",
      "Non-trainable params: 0\n",
      "__________________________________________________________________________________________________\n"
     ]
    }
   ],
   "source": [
    "decoder_model.summary()"
   ]
  },
  {
   "cell_type": "code",
   "execution_count": 49,
   "metadata": {
    "colab": {
     "base_uri": "https://localhost:8080/",
     "height": 386
    },
    "id": "L3iV6wQeLZx5",
    "outputId": "98cec531-6805-4590-c945-252b04bf2a10"
   },
   "outputs": [
    {
     "data": {
      "image/png": "[encoded data removed]",
      "text/plain": [
       "<IPython.core.display.Image object>"
      ]
     },
     "execution_count": 49,
     "metadata": {
      "tags": []
     },
     "output_type": "execute_result"
    }
   ],
   "source": [
    "plot_model(decoder_model,'model_encoder_decoder.png',show_shapes=True)"
   ]
  },
  {
   "cell_type": "code",
   "execution_count": 50,
   "metadata": {
    "id": "XSz3yG73KTvc"
   },
   "outputs": [],
   "source": [
    "def decode_sequence(input_seq):\n",
    "    # Encode the input as state vectors.\n",
    "    states_value = encoder_model.predict(input_seq)\n",
    "    # Generate empty target sequence of length 1.\n",
    "    target_seq = np.zeros((1,1))\n",
    "    # Populate the first character of target sequence with the start character.\n",
    "    target_seq[0, 0] = tknizer_hindi.word_index['<start>']\n",
    "\n",
    "    # Sampling loop for a batch of sequences\n",
    "    # (to simplify, here we assume a batch of size 1).\n",
    "    stop_condition = False\n",
    "    decoded_sentence = ''\n",
    "    while not stop_condition:\n",
    "        output_tokens, h, c = decoder_model.predict([target_seq] + states_value)\n",
    "\n",
    "        # Sample a token\n",
    "        sampled_token_index = np.argmax(output_tokens[0, -1, :])\n",
    "        sampled_char = tknizer_hindi.index_word[sampled_token_index]\n",
    "        decoded_sentence += ' '+sampled_char\n",
    "\n",
    "        # Exit condition: either hit max length\n",
    "        # or find stop character.\n",
    "        if (sampled_char == '<end>'):\n",
    "            stop_condition = True\n",
    "\n",
    "        # Update the target sequence (of length 1).\n",
    "        target_seq = np.zeros((1,1))\n",
    "        target_seq[0, 0] = sampled_token_index\n",
    "\n",
    "        # Update states\n",
    "        states_value = [h, c]\n",
    "\n",
    "    return decoded_sentence"
   ]
  },
  {
   "cell_type": "code",
   "execution_count": 51,
   "metadata": {
    "id": "Hljv5TOxKTvd"
   },
   "outputs": [],
   "source": [
    "def index_to_text(x,dictionary):#convert id to word\n",
    "    s=''\n",
    "    for i in x[0]:\n",
    "        if i==0:\n",
    "            break\n",
    "        if dictionary[i]=='<end>' or dictionary[i]=='<start>':\n",
    "            continue\n",
    "        s+=dictionary[i]+' '\n",
    "    return s"
   ]
  },
  {
   "cell_type": "markdown",
   "metadata": {
    "id": "vxZwcrb9hRsr"
   },
   "source": [
    "## Sample output on Train Data"
   ]
  },
  {
   "cell_type": "code",
   "execution_count": 76,
   "metadata": {
    "id": "Lnokt_ngKTvd"
   },
   "outputs": [],
   "source": [
    "train_gen = generate_batch(X_train_e,X_train_h,y_train_h, batch_size = 1)"
   ]
  },
  {
   "cell_type": "code",
   "execution_count": 77,
   "metadata": {
    "colab": {
     "base_uri": "https://localhost:8080/"
    },
    "id": "E8x5PahYKTvf",
    "outputId": "b6825f01-f8cd-4e8b-c9b7-16776e5baa11"
   },
   "outputs": [
    {
     "name": "stdout",
     "output_type": "stream",
     "text": [
      "Input English sentence:  and you go outside into the real world \n",
      "Actual Hindi Translation:  के बाहर असली दुनिया में आते है \n",
      "Predicted Hindi Translation:  और आप दुनिया में एक समस्या करते हैं <end>\n",
      "BLEU Score :  0.43472087194499137\n"
     ]
    }
   ],
   "source": [
    "(input_seq, actual_output), _ = next(train_gen)\n",
    "decoded_sentence = decode_sequence(input_seq)\n",
    "print('Input English sentence: ',index_to_text(input_seq,tknizer_eng.index_word))\n",
    "print('Actual Hindi Translation: ',index_to_text(actual_output,tknizer_hindi.index_word))\n",
    "print('Predicted Hindi Translation:', decoded_sentence)\n",
    "score = sentence_bleu([index_to_text(actual_output,tknizer_hindi.index_word).split()],decoded_sentence.replace('<end>','').split())\n",
    "print('BLEU Score : ',score)"
   ]
  },
  {
   "cell_type": "code",
   "execution_count": 78,
   "metadata": {
    "colab": {
     "base_uri": "https://localhost:8080/"
    },
    "id": "nxfyweYoKTvj",
    "outputId": "b35667c8-81a6-497e-a1b0-764c425342c2"
   },
   "outputs": [
    {
     "name": "stdout",
     "output_type": "stream",
     "text": [
      "Input English sentence:  international ramayana institute north america \n",
      "Actual Hindi Translation:  अन्तरराष्ट्रीय रामायण संस्थान उत्तरी अमेरिका \n",
      "Predicted Hindi Translation:  रामायण पाठ महाभारत का इतिहास <end>\n",
      "BLEU Score :  0.668740304976422\n"
     ]
    }
   ],
   "source": [
    "(input_seq, actual_output), _ = next(train_gen)\n",
    "decoded_sentence = decode_sequence(input_seq)\n",
    "print('Input English sentence: ',index_to_text(input_seq,tknizer_eng.index_word))\n",
    "print('Actual Hindi Translation: ',index_to_text(actual_output,tknizer_hindi.index_word))\n",
    "print('Predicted Hindi Translation:', decoded_sentence)\n",
    "score = sentence_bleu([index_to_text(actual_output,tknizer_hindi.index_word).split()],decoded_sentence.replace('<end>','').split())\n",
    "print('BLEU Score : ',score)"
   ]
  },
  {
   "cell_type": "code",
   "execution_count": 79,
   "metadata": {
    "colab": {
     "base_uri": "https://localhost:8080/"
    },
    "id": "FqZVMVOJKTvk",
    "outputId": "238f0cf5-0916-44c3-9605-05312949100b"
   },
   "outputs": [
    {
     "name": "stdout",
     "output_type": "stream",
     "text": [
      "Input English sentence:  kuraan has totally chapters which are called as sura \n",
      "Actual Hindi Translation:  क़ुरान में कुल अध्याय हैं जिन्हें सूरा कहते हैं \n",
      "Predicted Hindi Translation:  गंगा की राजधानी है कि यह कहते हैं <end>\n",
      "BLEU Score :  0.38363982298032945\n"
     ]
    }
   ],
   "source": [
    "(input_seq, actual_output), _ = next(train_gen)\n",
    "decoded_sentence = decode_sequence(input_seq)\n",
    "print('Input English sentence: ',index_to_text(input_seq,tknizer_eng.index_word))\n",
    "print('Actual Hindi Translation: ',index_to_text(actual_output,tknizer_hindi.index_word))\n",
    "print('Predicted Hindi Translation:', decoded_sentence)\n",
    "score = sentence_bleu([index_to_text(actual_output,tknizer_hindi.index_word).split()],decoded_sentence.replace('<end>','').split())\n",
    "print('BLEU Score : ',score)"
   ]
  },
  {
   "cell_type": "code",
   "execution_count": 80,
   "metadata": {
    "colab": {
     "base_uri": "https://localhost:8080/"
    },
    "id": "qy5QpxIwKTvk",
    "outputId": "733d3bb7-725c-44e8-9c6f-36200b3cb13c"
   },
   "outputs": [
    {
     "name": "stdout",
     "output_type": "stream",
     "text": [
      "Input English sentence:  point source dispersion is used for industrial sources \n",
      "Actual Hindi Translation:  स्रोत प्वाइंट point sourcedispersion औद्योगिक सूत्रों के लिए प्रयोग किया जाता है \n",
      "Predicted Hindi Translation:  स्रोत रेणु पोजीशन दृष्टि में भी क्या होता है <end>\n",
      "BLEU Score :  0.4919625503668659\n"
     ]
    }
   ],
   "source": [
    "(input_seq, actual_output), _ = next(train_gen)\n",
    "decoded_sentence = decode_sequence(input_seq)\n",
    "print('Input English sentence: ',index_to_text(input_seq,tknizer_eng.index_word))\n",
    "print('Actual Hindi Translation: ',index_to_text(actual_output,tknizer_hindi.index_word))\n",
    "print('Predicted Hindi Translation:', decoded_sentence)\n",
    "score = sentence_bleu([index_to_text(actual_output,tknizer_hindi.index_word).split()],decoded_sentence.replace('<end>','').split())\n",
    "print('BLEU Score : ',score)"
   ]
  },
  {
   "cell_type": "code",
   "execution_count": 81,
   "metadata": {
    "colab": {
     "base_uri": "https://localhost:8080/"
    },
    "id": "tHbP8SWYKTvk",
    "outputId": "b2a58815-ef84-44f3-d2fa-ffb4ad30b1c5"
   },
   "outputs": [
    {
     "name": "stdout",
     "output_type": "stream",
     "text": [
      "Input English sentence:  with low probability events \n",
      "Actual Hindi Translation:  एक अंदरूनी समस्या हैं \n",
      "Predicted Hindi Translation:  एक और विकास के रूप में <end>\n",
      "BLEU Score :  0.6389431042462724\n"
     ]
    }
   ],
   "source": [
    "(input_seq, actual_output), _ = next(train_gen)\n",
    "decoded_sentence = decode_sequence(input_seq)\n",
    "print('Input English sentence: ',index_to_text(input_seq,tknizer_eng.index_word))\n",
    "print('Actual Hindi Translation: ',index_to_text(actual_output,tknizer_hindi.index_word))\n",
    "print('Predicted Hindi Translation:', decoded_sentence)\n",
    "score = sentence_bleu([index_to_text(actual_output,tknizer_hindi.index_word).split()],decoded_sentence.replace('<end>','').split())\n",
    "print('BLEU Score : ',score)"
   ]
  },
  {
   "cell_type": "code",
   "execution_count": 82,
   "metadata": {
    "colab": {
     "base_uri": "https://localhost:8080/"
    },
    "id": "1Mjy4ZgIKTvl",
    "outputId": "263d44ed-fc86-41b2-88c9-f1a7554becb1"
   },
   "outputs": [
    {
     "name": "stdout",
     "output_type": "stream",
     "text": [
      "Input English sentence:  salux nnactor was next powerful precedeer of sikondor \n",
      "Actual Hindi Translation:  सेल्युकस नेक्टर सिकन्दर के सबसे शक्तिशाली उत्तराधिकारियों में से एक था \n",
      "Predicted Hindi Translation:  यार्क यदि विश्व धरोहर स्थल धरोहर है <end>\n",
      "BLEU Score :  0\n"
     ]
    }
   ],
   "source": [
    "(input_seq, actual_output), _ = next(train_gen)\n",
    "decoded_sentence = decode_sequence(input_seq)\n",
    "print('Input English sentence: ',index_to_text(input_seq,tknizer_eng.index_word))\n",
    "print('Actual Hindi Translation: ',index_to_text(actual_output,tknizer_hindi.index_word))\n",
    "print('Predicted Hindi Translation:', decoded_sentence)\n",
    "score = sentence_bleu([index_to_text(actual_output,tknizer_hindi.index_word).split()],decoded_sentence.replace('<end>','').split())\n",
    "print('BLEU Score : ',score)"
   ]
  },
  {
   "cell_type": "code",
   "execution_count": 83,
   "metadata": {
    "colab": {
     "base_uri": "https://localhost:8080/"
    },
    "id": "FhxJZDKOKTvl",
    "outputId": "8cfae6a8-9800-42a4-8c9a-647139310b36"
   },
   "outputs": [
    {
     "name": "stdout",
     "output_type": "stream",
     "text": [
      "Input English sentence:  we have hobby of seeing testing limits of powers \n",
      "Actual Hindi Translation:  हमें यह शौक है देखें सितम की इंतहा क्या है \n",
      "Predicted Hindi Translation:  हम इस प्रकार की कोशिकाओं का आंकलन करने की जरूरत है <end>\n",
      "BLEU Score :  0.6529942057256104\n"
     ]
    }
   ],
   "source": [
    "(input_seq, actual_output), _ = next(train_gen)\n",
    "decoded_sentence = decode_sequence(input_seq)\n",
    "print('Input English sentence: ',index_to_text(input_seq,tknizer_eng.index_word))\n",
    "print('Actual Hindi Translation: ',index_to_text(actual_output,tknizer_hindi.index_word))\n",
    "print('Predicted Hindi Translation:', decoded_sentence)\n",
    "score = sentence_bleu([index_to_text(actual_output,tknizer_hindi.index_word).split()],decoded_sentence.replace('<end>','').split())\n",
    "print('BLEU Score : ',score)"
   ]
  },
  {
   "cell_type": "code",
   "execution_count": 84,
   "metadata": {
    "colab": {
     "base_uri": "https://localhost:8080/"
    },
    "id": "Z8234aIcKTvl",
    "outputId": "6cbcea04-518e-41bd-f0e0-082c118998ef"
   },
   "outputs": [
    {
     "name": "stdout",
     "output_type": "stream",
     "text": [
      "Input English sentence:  he has been always associated with akbar \n",
      "Actual Hindi Translation:  इनके अकबर के संग किस्से आज भी कहे जाते हैं \n",
      "Predicted Hindi Translation:  वे अपने न्यायालय का और कमजोर रोग है <end>\n",
      "BLEU Score :  0\n"
     ]
    }
   ],
   "source": [
    "(input_seq, actual_output), _ = next(train_gen)\n",
    "decoded_sentence = decode_sequence(input_seq)\n",
    "print('Input English sentence: ',index_to_text(input_seq,tknizer_eng.index_word))\n",
    "print('Actual Hindi Translation: ',index_to_text(actual_output,tknizer_hindi.index_word))\n",
    "print('Predicted Hindi Translation:', decoded_sentence)\n",
    "score = sentence_bleu([index_to_text(actual_output,tknizer_hindi.index_word).split()],decoded_sentence.replace('<end>','').split())\n",
    "print('BLEU Score : ',score)"
   ]
  },
  {
   "cell_type": "code",
   "execution_count": 85,
   "metadata": {
    "colab": {
     "base_uri": "https://localhost:8080/"
    },
    "id": "aynK_YTsKTvm",
    "outputId": "eaaa7bc9-6872-4242-f259-546deb687664"
   },
   "outputs": [
    {
     "name": "stdout",
     "output_type": "stream",
     "text": [
      "Input English sentence:  and playing a car racing game \n",
      "Actual Hindi Translation:  और आप एक कार रेसिंग गेम खेल रहे हैं \n",
      "Predicted Hindi Translation:  और एक एक एक दोस्त बनाने के लिए <end>\n",
      "BLEU Score :  0.6240195441936915\n"
     ]
    }
   ],
   "source": [
    "(input_seq, actual_output), _ = next(train_gen)\n",
    "decoded_sentence = decode_sequence(input_seq)\n",
    "print('Input English sentence: ',index_to_text(input_seq,tknizer_eng.index_word))\n",
    "print('Actual Hindi Translation: ',index_to_text(actual_output,tknizer_hindi.index_word))\n",
    "print('Predicted Hindi Translation:', decoded_sentence)\n",
    "score = sentence_bleu([index_to_text(actual_output,tknizer_hindi.index_word).split()],decoded_sentence.replace('<end>','').split())\n",
    "print('BLEU Score : ',score)"
   ]
  },
  {
   "cell_type": "code",
   "execution_count": 86,
   "metadata": {
    "colab": {
     "base_uri": "https://localhost:8080/"
    },
    "id": "d1kLOLSiKTvm",
    "outputId": "6182af9c-3668-4da6-cae2-2976c2177993"
   },
   "outputs": [
    {
     "name": "stdout",
     "output_type": "stream",
     "text": [
      "Input English sentence:  like with a pacemaker \n",
      "Actual Hindi Translation:  जैसे कि गतिनिर्धारक से \n",
      "Predicted Hindi Translation:  एक एक विश्लेषण के लिए <end>\n",
      "BLEU Score :  0\n"
     ]
    }
   ],
   "source": [
    "(input_seq, actual_output), _ = next(train_gen)\n",
    "decoded_sentence = decode_sequence(input_seq)\n",
    "print('Input English sentence: ',index_to_text(input_seq,tknizer_eng.index_word))\n",
    "print('Actual Hindi Translation: ',index_to_text(actual_output,tknizer_hindi.index_word))\n",
    "print('Predicted Hindi Translation:', decoded_sentence)\n",
    "score = sentence_bleu([index_to_text(actual_output,tknizer_hindi.index_word).split()],decoded_sentence.replace('<end>','').split())\n",
    "print('BLEU Score : ',score)"
   ]
  },
  {
   "cell_type": "markdown",
   "metadata": {
    "id": "mL03G87_gztk"
   },
   "source": [
    "## Sample output on CV Data"
   ]
  },
  {
   "cell_type": "code",
   "execution_count": 87,
   "metadata": {
    "id": "kE2domRDKTvq"
   },
   "outputs": [],
   "source": [
    "test_gen = generate_batch(X_test_e,X_test_h,y_test_h, batch_size = 1)"
   ]
  },
  {
   "cell_type": "code",
   "execution_count": 88,
   "metadata": {
    "colab": {
     "base_uri": "https://localhost:8080/"
    },
    "id": "SLP062E4g-HM",
    "outputId": "b65696e1-2b2c-4e35-edb0-e00b0880080e"
   },
   "outputs": [
    {
     "name": "stdout",
     "output_type": "stream",
     "text": [
      "Input English sentence:  poets polite saint pant \n",
      "Actual Hindi Translation:  कवियों के सौम्य संत पंत \n",
      "Predicted Hindi Translation:  भक्त जिला <end>\n",
      "BLEU Score :  0\n"
     ]
    }
   ],
   "source": [
    "(input_seq, actual_output), _ = next(test_gen)\n",
    "decoded_sentence = decode_sequence(input_seq)\n",
    "print('Input English sentence: ',index_to_text(input_seq,tknizer_eng.index_word))\n",
    "print('Actual Hindi Translation: ',index_to_text(actual_output,tknizer_hindi.index_word))\n",
    "print('Predicted Hindi Translation:', decoded_sentence)\n",
    "score = sentence_bleu([index_to_text(actual_output,tknizer_hindi.index_word).split()],decoded_sentence.replace('<end>','').split())\n",
    "print('BLEU Score : ',score)"
   ]
  },
  {
   "cell_type": "code",
   "execution_count": 89,
   "metadata": {
    "colab": {
     "base_uri": "https://localhost:8080/"
    },
    "id": "ui6uihxthC5j",
    "outputId": "85986273-e497-4b8d-93f7-c8f6379effe4"
   },
   "outputs": [
    {
     "name": "stdout",
     "output_type": "stream",
     "text": [
      "Input English sentence:  there is no dearth for artists \n",
      "Actual Hindi Translation:  यहां कला प्रेमियों की कमी भी नहीं है \n",
      "Predicted Hindi Translation:  इनके नाम के लिए कोई गिनती है <end>\n",
      "BLEU Score :  0.5329462628216854\n"
     ]
    }
   ],
   "source": [
    "(input_seq, actual_output), _ = next(test_gen)\n",
    "decoded_sentence = decode_sequence(input_seq)\n",
    "print('Input English sentence: ',index_to_text(input_seq,tknizer_eng.index_word))\n",
    "print('Actual Hindi Translation: ',index_to_text(actual_output,tknizer_hindi.index_word))\n",
    "print('Predicted Hindi Translation:', decoded_sentence)\n",
    "score = sentence_bleu([index_to_text(actual_output,tknizer_hindi.index_word).split()],decoded_sentence.replace('<end>','').split())\n",
    "print('BLEU Score : ',score)"
   ]
  },
  {
   "cell_type": "code",
   "execution_count": 90,
   "metadata": {
    "colab": {
     "base_uri": "https://localhost:8080/"
    },
    "id": "bwr3K1gThEjr",
    "outputId": "805a1d3d-e457-4c76-e910-de2d9c4041cb"
   },
   "outputs": [
    {
     "name": "stdout",
     "output_type": "stream",
     "text": [
      "Input English sentence:  again there was heavy battle in two parties \n",
      "Actual Hindi Translation:  फिर से दोनों पक्षो में बड़ा भयंकर युद्ध हुआ \n",
      "Predicted Hindi Translation:  इन साल में एक कंपनी की मृत्यु थे <end>\n",
      "BLEU Score :  0.5247357977607321\n"
     ]
    }
   ],
   "source": [
    "(input_seq, actual_output), _ = next(test_gen)\n",
    "decoded_sentence = decode_sequence(input_seq)\n",
    "print('Input English sentence: ',index_to_text(input_seq,tknizer_eng.index_word))\n",
    "print('Actual Hindi Translation: ',index_to_text(actual_output,tknizer_hindi.index_word))\n",
    "print('Predicted Hindi Translation:', decoded_sentence)\n",
    "score = sentence_bleu([index_to_text(actual_output,tknizer_hindi.index_word).split()],decoded_sentence.replace('<end>','').split())\n",
    "print('BLEU Score : ',score)"
   ]
  },
  {
   "cell_type": "code",
   "execution_count": 91,
   "metadata": {
    "colab": {
     "base_uri": "https://localhost:8080/"
    },
    "id": "3mfa44nKhFqD",
    "outputId": "2599a0e4-ff18-4134-dcbd-d91478cd4d3a"
   },
   "outputs": [
    {
     "name": "stdout",
     "output_type": "stream",
     "text": [
      "Input English sentence:  now i do not mean to mock \n",
      "Actual Hindi Translation:  मैं नहीं होना चाहता \n",
      "Predicted Hindi Translation:  अब मैं एक बात नहीं हूँ <end>\n",
      "BLEU Score :  0.7598356856515925\n"
     ]
    }
   ],
   "source": [
    "(input_seq, actual_output), _ = next(test_gen)\n",
    "decoded_sentence = decode_sequence(input_seq)\n",
    "print('Input English sentence: ',index_to_text(input_seq,tknizer_eng.index_word))\n",
    "print('Actual Hindi Translation: ',index_to_text(actual_output,tknizer_hindi.index_word))\n",
    "print('Predicted Hindi Translation:', decoded_sentence)\n",
    "score = sentence_bleu([index_to_text(actual_output,tknizer_hindi.index_word).split()],decoded_sentence.replace('<end>','').split())\n",
    "print('BLEU Score : ',score)"
   ]
  },
  {
   "cell_type": "code",
   "execution_count": 92,
   "metadata": {
    "colab": {
     "base_uri": "https://localhost:8080/"
    },
    "id": "rmEVzyxDhGwT",
    "outputId": "e5d4b118-85ff-44f6-efb8-0778affbec46"
   },
   "outputs": [
    {
     "name": "stdout",
     "output_type": "stream",
     "text": [
      "Input English sentence:  at the beginning in there was small faces \n",
      "Actual Hindi Translation:  आरंभ में मक्के में छोटी छोटी सूरतें अवतीर्ण हुईं \n",
      "Predicted Hindi Translation:  एक तरह में एक टोपी बना रहे हैं <end>\n",
      "BLEU Score :  0.5247357977607321\n"
     ]
    }
   ],
   "source": [
    "(input_seq, actual_output), _ = next(test_gen)\n",
    "decoded_sentence = decode_sequence(input_seq)\n",
    "print('Input English sentence: ',index_to_text(input_seq,tknizer_eng.index_word))\n",
    "print('Actual Hindi Translation: ',index_to_text(actual_output,tknizer_hindi.index_word))\n",
    "print('Predicted Hindi Translation:', decoded_sentence)\n",
    "score = sentence_bleu([index_to_text(actual_output,tknizer_hindi.index_word).split()],decoded_sentence.replace('<end>','').split())\n",
    "print('BLEU Score : ',score)"
   ]
  },
  {
   "cell_type": "code",
   "execution_count": 93,
   "metadata": {
    "colab": {
     "base_uri": "https://localhost:8080/"
    },
    "id": "Rjd_aUtmhHrI",
    "outputId": "bb16c5bc-58db-4da9-b5c7-85c7b9bea9a4"
   },
   "outputs": [
    {
     "name": "stdout",
     "output_type": "stream",
     "text": [
      "Input English sentence:  in thumb \n",
      "Actual Hindi Translation:  में thumb \n",
      "Predicted Hindi Translation:  में <end>\n",
      "BLEU Score :  0.36787944117144233\n"
     ]
    }
   ],
   "source": [
    "(input_seq, actual_output), _ = next(test_gen)\n",
    "decoded_sentence = decode_sequence(input_seq)\n",
    "print('Input English sentence: ',index_to_text(input_seq,tknizer_eng.index_word))\n",
    "print('Actual Hindi Translation: ',index_to_text(actual_output,tknizer_hindi.index_word))\n",
    "print('Predicted Hindi Translation:', decoded_sentence)\n",
    "score = sentence_bleu([index_to_text(actual_output,tknizer_hindi.index_word).split()],decoded_sentence.replace('<end>','').split())\n",
    "print('BLEU Score : ',score)"
   ]
  },
  {
   "cell_type": "code",
   "execution_count": 94,
   "metadata": {
    "colab": {
     "base_uri": "https://localhost:8080/"
    },
    "id": "nxm5G9TRhIhD",
    "outputId": "05adc8a4-6595-41d1-b504-07d17454ea88"
   },
   "outputs": [
    {
     "name": "stdout",
     "output_type": "stream",
     "text": [
      "Input English sentence:  pratahkal hindi news the intended news \n",
      "Actual Hindi Translation:  pratahkal hindi news paper प्रातःकाल में हिन्दी न्यूज़ सर्च करें \n",
      "Predicted Hindi Translation:  हिन्दी प्रकाशक लामा हिन्दी <end>\n",
      "BLEU Score :  0.15777684932819508\n"
     ]
    }
   ],
   "source": [
    "(input_seq, actual_output), _ = next(test_gen)\n",
    "decoded_sentence = decode_sequence(input_seq)\n",
    "print('Input English sentence: ',index_to_text(input_seq,tknizer_eng.index_word))\n",
    "print('Actual Hindi Translation: ',index_to_text(actual_output,tknizer_hindi.index_word))\n",
    "print('Predicted Hindi Translation:', decoded_sentence)\n",
    "score = sentence_bleu([index_to_text(actual_output,tknizer_hindi.index_word).split()],decoded_sentence.replace('<end>','').split())\n",
    "print('BLEU Score : ',score)"
   ]
  },
  {
   "cell_type": "code",
   "execution_count": 95,
   "metadata": {
    "colab": {
     "base_uri": "https://localhost:8080/"
    },
    "id": "Xc5Ea5fdhJgD",
    "outputId": "0423b234-7275-40ba-e850-b1c943da2e95"
   },
   "outputs": [
    {
     "name": "stdout",
     "output_type": "stream",
     "text": [
      "Input English sentence:  i will craft my own drum \n",
      "Actual Hindi Translation:  मेरा मैं ख़ुद \n",
      "Predicted Hindi Translation:  मैं अपनी study लड़कियों के लिए मैं रिहा कर रहे हैं <end>\n",
      "BLEU Score :  0.5491004867761125\n"
     ]
    }
   ],
   "source": [
    "(input_seq, actual_output), _ = next(test_gen)\n",
    "decoded_sentence = decode_sequence(input_seq)\n",
    "print('Input English sentence: ',index_to_text(input_seq,tknizer_eng.index_word))\n",
    "print('Actual Hindi Translation: ',index_to_text(actual_output,tknizer_hindi.index_word))\n",
    "print('Predicted Hindi Translation:', decoded_sentence)\n",
    "score = sentence_bleu([index_to_text(actual_output,tknizer_hindi.index_word).split()],decoded_sentence.replace('<end>','').split())\n",
    "print('BLEU Score : ',score)"
   ]
  },
  {
   "cell_type": "code",
   "execution_count": 96,
   "metadata": {
    "colab": {
     "base_uri": "https://localhost:8080/"
    },
    "id": "FVbFCD2dhKo0",
    "outputId": "b57c048c-8d82-4877-897f-b7b55200fc7f"
   },
   "outputs": [
    {
     "name": "stdout",
     "output_type": "stream",
     "text": [
      "Input English sentence:  thank you \n",
      "Actual Hindi Translation:  धन्यवाद \n",
      "Predicted Hindi Translation:  धन्यवाद <end>\n",
      "BLEU Score :  1.0\n"
     ]
    }
   ],
   "source": [
    "(input_seq, actual_output), _ = next(test_gen)\n",
    "decoded_sentence = decode_sequence(input_seq)\n",
    "print('Input English sentence: ',index_to_text(input_seq,tknizer_eng.index_word))\n",
    "print('Actual Hindi Translation: ',index_to_text(actual_output,tknizer_hindi.index_word))\n",
    "print('Predicted Hindi Translation:', decoded_sentence)\n",
    "score = sentence_bleu([index_to_text(actual_output,tknizer_hindi.index_word).split()],decoded_sentence.replace('<end>','').split())\n",
    "print('BLEU Score : ',score)"
   ]
  },
  {
   "cell_type": "code",
   "execution_count": 97,
   "metadata": {
    "colab": {
     "base_uri": "https://localhost:8080/"
    },
    "id": "olFFfUobhLf6",
    "outputId": "6b6bb243-4d69-4179-b38d-5b928a5bccf1"
   },
   "outputs": [
    {
     "name": "stdout",
     "output_type": "stream",
     "text": [
      "Input English sentence:  vedic \n",
      "Actual Hindi Translation:  वेद विद्या डॉट कॉम \n",
      "Predicted Hindi Translation:  वैदिक <end>\n",
      "BLEU Score :  0\n"
     ]
    }
   ],
   "source": [
    "(input_seq, actual_output), _ = next(test_gen)\n",
    "decoded_sentence = decode_sequence(input_seq)\n",
    "print('Input English sentence: ',index_to_text(input_seq,tknizer_eng.index_word))\n",
    "print('Actual Hindi Translation: ',index_to_text(actual_output,tknizer_hindi.index_word))\n",
    "print('Predicted Hindi Translation:', decoded_sentence)\n",
    "score = sentence_bleu([index_to_text(actual_output,tknizer_hindi.index_word).split()],decoded_sentence.replace('<end>','').split())\n",
    "print('BLEU Score : ',score)"
   ]
  }
 ],
 "metadata": {
  "accelerator": "GPU",
  "colab": {
   "collapsed_sections": [],
   "name": "Machine_translation_english_to_hindi.ipynb",
   "provenance": []
  },
  "kernelspec": {
   "display_name": "Python 3",
   "language": "python",
   "name": "python3"
  },
  "language_info": {
   "codemirror_mode": {
    "name": "ipython",
    "version": 3
   },
   "file_extension": ".py",
   "mimetype": "text/x-python",
   "name": "python",
   "nbconvert_exporter": "python",
   "pygments_lexer": "ipython3",
   "version": "3.7.3"
  }
 },
 "nbformat": 4,
 "nbformat_minor": 1
}
